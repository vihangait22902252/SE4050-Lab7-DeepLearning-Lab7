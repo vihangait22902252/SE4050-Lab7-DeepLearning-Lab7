{
  "cells": [
    {
      "cell_type": "markdown",
      "metadata": {
        "id": "-LMwDZHlsAvn"
      },
      "source": [
        "# Markov Decision Process (MDP)"
      ]
    },
    {
      "cell_type": "markdown",
      "metadata": {
        "id": "rK2etKh-sAvo"
      },
      "source": [
        "### Ransalu Senanayake"
      ]
    },
    {
      "cell_type": "code",
      "execution_count": null,
      "metadata": {
        "id": "Tlr-PNcssAvp"
      },
      "outputs": [],
      "source": [
        "import copy\n",
        "import timeit\n",
        "import numpy as np\n",
        "import matplotlib.pyplot as pl\n",
        "%matplotlib inline\n",
        "from ipywidgets import interactive\n",
        "import ipywidgets as widgets"
      ]
    },
    {
      "cell_type": "markdown",
      "metadata": {
        "id": "_f6VSXlQsAvs"
      },
      "source": [
        "Create the following grid world.\n",
        "\n",
        "**States:** A 10x10 grid\n",
        "\n",
        "**Actions:** Up, Down, Left, Right\n",
        "\n",
        "**Tranistion probabilities:**\n",
        "* 0.7 in the direction of action\n",
        "* 0.1 in the three other directions\n",
        "* The robot bounces back to the same state near edges\n",
        "\n",
        "**Rewards:**\n",
        "* (7,8) has a reward +10\n",
        "* (2,7) has a reward +3\n",
        "* (4,3) has a reward -5\n",
        "* (7,3) has a reward -10\n",
        "* No reward in other states\n",
        "\n",
        "This example is based on Decision Making Under Uncertainty by M.J. Kochenderfer."
      ]
    },
    {
      "cell_type": "code",
      "execution_count": null,
      "metadata": {
        "id": "sbT7VOEQsAvt"
      },
      "outputs": [],
      "source": [
        "#Let's define MDP paras\n",
        "def createGrid10World():\n",
        "    def xy2s(y, x):\n",
        "        x = max(x, 0)\n",
        "        y = max(y, 0)\n",
        "        x = min(x, 9)\n",
        "        y = min(y, 9)\n",
        "        out = np.ravel_multi_index(np.array([x,y]), (10,10))\n",
        "        return out\n",
        "\n",
        "    def s2xy(s):\n",
        "        x, y = np.unravel_index(s, (10,10))\n",
        "        return y, x\n",
        "\n",
        "    def gridPlot(ax, im, title='', cmap='Blues'):\n",
        "        pl.imshow(im, interpolation='none', cmap=cmap, origin='lower')\n",
        "        pl.colorbar()\n",
        "        ax.set_xticks(np.arange(0, 10, 1));\n",
        "        ax.set_yticks(np.arange(0, 10, 1));\n",
        "        ax.set_xticklabels(np.arange(0, 10, 1));\n",
        "        ax.set_yticklabels(np.arange(0, 10, 1));\n",
        "        ax.set_xticks(np.arange(-.5, 10, 1), minor=True);\n",
        "        ax.set_yticks(np.arange(-.5, 10, 1), minor=True);\n",
        "        ax.grid(which='minor', color='w', linestyle='-', linewidth=1)\n",
        "        pl.title(title);\n",
        "        return\n",
        "\n",
        "    A = ['left', 'right', 'up', 'down']\n",
        "    S = np.arange(100)\n",
        "    T = np.zeros((len(S), len(A), len(S)))\n",
        "    R = np.zeros((len(S), len(A)))\n",
        "    for s in S:\n",
        "        x, y = s2xy(s)\n",
        "        if x == 2 and y == 7:\n",
        "            R[s, :] = 3\n",
        "        elif x == 7 and y == 8:\n",
        "            R[s, :] = 10\n",
        "        else:\n",
        "            if x == 7 and y == 3:\n",
        "                R[s, :] = -10\n",
        "            elif x == 4 and y == 3:\n",
        "                R[s, :] = -5\n",
        "            elif x == 0:\n",
        "                if y == 0 or y == 9:\n",
        "                    R[s, :] = -0.2\n",
        "                else:\n",
        "                    R[s, :] = -0.1\n",
        "                R[s, 0] = -0.7\n",
        "            elif x == 9:\n",
        "                if y == 0 or y == 9:\n",
        "                    R[s, :] = -0.2\n",
        "                else:\n",
        "                    R[s, :] = -0.1\n",
        "                R[s, 1] = -0.7\n",
        "            elif y == 0:\n",
        "                if x == 0 or x == 9:\n",
        "                    R[s, :] = -0.2\n",
        "                else:\n",
        "                    R[s, :] = -0.1\n",
        "                R[s, 3] = -0.7\n",
        "            elif y == 9:\n",
        "                if x == 0 or x == 9:\n",
        "                    R[s, :] = -0.2\n",
        "                else:\n",
        "                    R[s, :] = -0.1\n",
        "                R[s, 2] = -0.7\n",
        "\n",
        "            for a in A:\n",
        "                if a == 'left':\n",
        "                    T[s, 0, xy2s(x - 1, y)] += 0.7\n",
        "                    T[s, 0, xy2s(x + 1, y)] += 0.1\n",
        "                    T[s, 0, xy2s(x, y - 1)] += 0.1\n",
        "                    T[s, 0, xy2s(x, y + 1)] += 0.1\n",
        "                elif a == 'right':\n",
        "                    T[s, 1, xy2s(x + 1, y)] += 0.7\n",
        "                    T[s, 1, xy2s(x - 1, y)] += 0.1\n",
        "                    T[s, 1, xy2s(x, y - 1)] += 0.1\n",
        "                    T[s, 1, xy2s(x, y + 1)] += 0.1\n",
        "                elif a == 'up':\n",
        "                    T[s, 2, xy2s(x, y + 1)] += 0.7\n",
        "                    T[s, 2, xy2s(x, y - 1)] += 0.1\n",
        "                    T[s, 2, xy2s(x - 1, y)] += 0.1\n",
        "                    T[s, 2, xy2s(x + 1, y)] += 0.1\n",
        "                elif a == 'down':\n",
        "                    T[s, 3, xy2s(x, y - 1)] += 0.7\n",
        "                    T[s, 3, xy2s(x, y + 1)] += 0.1\n",
        "                    T[s, 3, xy2s(x - 1, y)] += 0.1\n",
        "                    T[s, 3, xy2s(x + 1, y)] += 0.1\n",
        "\n",
        "    for a, c_x, c_y in [(0,0,0), (0,0,9),(1,9,0),(1,9,9),(2,0,9),(2,9,9),(3,0,0),(3,9,0)]:\n",
        "        R[xy2s(c_x,c_y),a] = -0.8\n",
        "\n",
        "    discount = 0.9\n",
        "\n",
        "    nextStates = {}\n",
        "    for si in range(len(S)):\n",
        "        for ai in range(len(A)):\n",
        "            nextStates[(si,ai)] = np.where((T[si, ai, :] != 0) == True)[0]\n",
        "\n",
        "    return {'S':S, 'A':A, 'T':T, 'R':R, 'discount':discount, 'nextStates':nextStates, 'gridPlot':gridPlot, 'xy2s':xy2s, 's2xy':s2xy}"
      ]
    },
    {
      "cell_type": "code",
      "execution_count": null,
      "metadata": {
        "id": "BylriiRqsAvv"
      },
      "outputs": [],
      "source": [
        "class MDP():\n",
        "    def __init__(self):\n",
        "        pass\n",
        "\n",
        "    def inbuilt_init(self, mdp_dict):\n",
        "        self.S = mdp_dict['S']\n",
        "        self.A = mdp_dict['A']\n",
        "        self.T = mdp_dict['T']\n",
        "        self.R = mdp_dict['R']\n",
        "        self.discount = mdp_dict['discount']\n",
        "        self.nextStates = mdp_dict['nextStates']\n",
        "        self.gridPlot = mdp_dict['gridPlot']\n",
        "        self.xy2s = mdp_dict['xy2s']\n",
        "        self.s2xy = mdp_dict['s2xy']"
      ]
    },
    {
      "cell_type": "code",
      "execution_count": null,
      "metadata": {
        "colab": {
          "base_uri": "https://localhost:8080/",
          "height": 1000
        },
        "id": "QGcCuJpasAvy",
        "outputId": "436d28dd-259b-4e30-de14-db64ee2d321e"
      },
      "outputs": [
        {
          "data": {
            "image/png": "[encoded data removed]",
            "text/plain": [
              "<Figure size 300x300 with 2 Axes>"
            ]
          },
          "metadata": {},
          "output_type": "display_data"
        },
        {
          "data": {
            "image/png": "[encoded data removed]",
            "text/plain": [
              "<Figure size 1500x300 with 8 Axes>"
            ]
          },
          "metadata": {},
          "output_type": "display_data"
        },
        {
          "data": {
            "image/png": "[encoded data removed]",
            "text/plain": [
              "<Figure size 1500x300 with 8 Axes>"
            ]
          },
          "metadata": {},
          "output_type": "display_data"
        },
        {
          "data": {
            "image/png": "[encoded data removed]",
            "text/plain": [
              "<Figure size 1500x300 with 8 Axes>"
            ]
          },
          "metadata": {},
          "output_type": "display_data"
        }
      ],
      "source": [
        "#Define the MDP\n",
        "mdp = MDP()\n",
        "mdp.inbuilt_init(mdp_dict=createGrid10World())\n",
        "\n",
        "#Plot states\n",
        "pl.figure(figsize=(3,3))\n",
        "mdp.gridPlot(ax=pl.gca(), im=mdp.S.reshape((10,10)), title='States', cmap='Greys')\n",
        "\n",
        "#Plot rewards\n",
        "pl.figure(figsize=(15,3))\n",
        "pl.suptitle('Rewards', fontsize=15)\n",
        "for a in range(4):\n",
        "    pl.subplot(1,4,a+1)\n",
        "    mdp.gridPlot(ax=pl.gca(), im=mdp.R[:,a].reshape((10,10)), title='a='+mdp.A[a], cmap='jet')\n",
        "pl.show()\n",
        "\n",
        "#Plot rewards\n",
        "pl.figure(figsize=(15,3))\n",
        "pl.suptitle('Rewards - clipped larger +ve values for visualizing the edges', fontsize=15)\n",
        "for a in range(4):\n",
        "    pl.subplot(1,4,a+1)\n",
        "    mdp.gridPlot(ax=pl.gca(), im=np.clip(mdp.R[:,a].reshape((10,10)), -1, -0.5), title='a='+mdp.A[a], cmap='jet')\n",
        "pl.show()\n",
        "\n",
        "#Plot rewards\n",
        "s0_x, s0_y = 3, 5\n",
        "s0 = mdp.xy2s(s0_x, s0_y)\n",
        "pl.figure(figsize=(15,3))\n",
        "pl.suptitle('Transition probabilities T(s1|s0=({},{}),a)'.format(s0_x, s0_y), fontsize=15)\n",
        "for a in range(4):\n",
        "    pl.subplot(1,4,a+1)\n",
        "    mdp.gridPlot(ax=pl.gca(), im=mdp.T[s0,a,:].reshape((10,10)), title='a='+mdp.A[a], cmap='Blues')\n",
        "pl.show()"
      ]
    },
    {
      "cell_type": "code",
      "execution_count": null,
      "metadata": {
        "colab": {
          "base_uri": "https://localhost:8080/",
          "height": 610,
          "referenced_widgets": [
            "e3e997350d6b460cb930cb4cbcd72387",
            "d4d5af6abf30421b8e3fc1f9e6c0c23e",
            "7cca17d67baa47baa2597ad319e9ad32",
            "1bed14f2331a4e95807ca0c3b0bf4561",
            "af0f81e6d44a46ab9207cc2712519489",
            "b5ac74386c02452b999756a0621ce092",
            "cbe2eed9c6834fdabaf8fb343a6237dd",
            "d699034737d94995b3319e1376bee271",
            "a71b14fbe4fe4491ab0e87880e4bc278",
            "7008da84de8b491b89bc77c051de7e18",
            "bef2c3f4160e4d0aa02154edea29d626",
            "70d4b6b9ff8c4ea5ab30884c0c0fbc1a",
            "761ae482c8ee4cd1b214c58024fe8a3c"
          ]
        },
        "id": "WSh9F6O2sAv1",
        "outputId": "6dd05089-3100-457e-9c64-06bfdec8e23f"
      },
      "outputs": [
        {
          "data": {
            "application/vnd.jupyter.widget-view+json": {
              "model_id": "e3e997350d6b460cb930cb4cbcd72387",
              "version_major": 2,
              "version_minor": 0
            },
            "text/plain": [
              "interactive(children=(Text(value='4', description='s0_x'), Text(value='5', description='s0_y'), ToggleButtons(…"
            ]
          },
          "metadata": {},
          "output_type": "display_data"
        }
      ],
      "source": [
        "#An interactive plot of transition probabilities\n",
        "def f(s0_x, s0_y, action):\n",
        "    a = mdp.A.index(action)\n",
        "    s0 = mdp.xy2s(int(s0_x), int(s0_y))\n",
        "    pl.figure(figsize=(6,6))\n",
        "    title = 'Transition probabilities T(s1|s0=({},{}),a={})'.format(int(s0_x),int(s0_y),action)\n",
        "    mdp.gridPlot(ax=pl.gca(), im=mdp.T[s0,a,:].reshape((10,10)), title=title, cmap='Blues')\n",
        "    pl.show()\n",
        "\n",
        "interactive_plot = interactive(f, s0_x='4', s0_y='5', action=widgets.ToggleButtons(options=['left', 'right', 'up', 'down']))\n",
        "interactive_plot"
      ]
    },
    {
      "cell_type": "markdown",
      "metadata": {
        "id": "CRtcTdgOsAv4"
      },
      "source": [
        "### 1. Policy evaluation\n",
        "\n",
        "Computing the utility, U.\n",
        "\n",
        "$U^\\pi_k(s) = R(s, \\pi(s)) + \\gamma \\sum_{s'} T(s' \\mid s, \\pi(s))U^\\pi_{k-1}(s')$"
      ]
    },
    {
      "cell_type": "code",
      "execution_count": null,
      "metadata": {
        "colab": {
          "base_uri": "https://localhost:8080/",
          "height": 654
        },
        "id": "cT2yS--rsAv4",
        "outputId": "32ea866b-c858-4ac0-e616-dd8fbd3cde38"
      },
      "outputs": [
        {
          "data": {
            "image/png": "[encoded data removed]",
            "text/plain": [
              "<Figure size 1500x300 with 8 Axes>"
            ]
          },
          "metadata": {},
          "output_type": "display_data"
        },
        {
          "name": "stdout",
          "output_type": "stream",
          "text": [
            "[[-2.9550e+00 -2.6620e+00 -2.6120e+00 -2.6080e+00 -2.6120e+00 -2.6080e+00\n",
            "  -2.6090e+00 -2.6230e+00 -2.6640e+00 -2.9550e+00]\n",
            " [-2.0280e+00 -1.7350e+00 -1.6870e+00 -1.6910e+00 -1.7330e+00 -1.6940e+00\n",
            "  -1.7040e+00 -1.7920e+00 -1.7570e+00 -2.0320e+00]\n",
            " [-1.2890e+00 -9.9700e-01 -9.5700e-01 -1.0530e+00 -1.4920e+00 -1.0750e+00\n",
            "  -1.1770e+00 -2.0440e+00 -1.2210e+00 -1.3130e+00]\n",
            " [-7.6000e-01 -4.7000e-01 -4.8600e-01 -1.0260e+00 -6.2200e+00 -1.1640e+00\n",
            "  -1.7090e+00 -1.2023e+01 -1.6960e+00 -9.0600e-01]\n",
            " [-4.5900e-01 -1.7400e-01 -1.9000e-01 -8.9700e-01 -3.9680e+00 -1.0510e+00\n",
            "  -1.7620e+00 -7.8020e+00 -1.7410e+00 -6.3000e-01]\n",
            " [-3.4700e-01 -4.9000e-02 -7.3000e-02 -5.3000e-01 -2.6260e+00 -7.2900e-01\n",
            "  -1.1660e+00 -5.2530e+00 -1.1240e+00 -5.4100e-01]\n",
            " [-3.4100e-01  6.0000e-03  2.8900e-01 -3.8900e-01 -1.2440e+00 -4.4500e-01\n",
            "  -8.7900e-01 -2.4090e+00 -9.3400e-01 -3.4500e-01]\n",
            " [-3.0900e-01  2.7700e-01  3.0000e+00  3.3200e-01 -7.4800e-01  2.2000e-02\n",
            "   2.0200e-01 -6.0000e-01  1.4700e-01 -3.2600e-01]\n",
            " [-3.1400e-01  3.5600e-01  2.0480e+00  4.1200e-01  3.6000e-02  1.1700e-01\n",
            "   1.1100e+00  1.0000e+01  1.0560e+00 -2.3000e-01]\n",
            " [-4.4000e-01  1.5600e-01  1.3180e+00  2.1100e-01 -7.3000e-02  3.2000e-02\n",
            "   1.3230e+00  7.0310e+00  1.2680e+00 -2.9800e-01]]\n"
          ]
        }
      ],
      "source": [
        "def iterativePolicyEvaluation(mdp, policy, numIterations=10):\n",
        "    U = np.zeros(len(mdp.S))\n",
        "    U_old = copy.copy(U)\n",
        "    for t in range(numIterations):\n",
        "    #type your code here\n",
        "\n",
        "      U_old = copy.copy(U)\n",
        "      for s in mdp.S:\n",
        "        a = policy\n",
        "        U[s] = mdp.R[s, a] + mdp.discount * np.sum(mdp.T[s, a, :] * U_old)\n",
        "    return U\n",
        "\n",
        "numIterations = 5\n",
        "pl.figure(figsize=(15,3))\n",
        "pl.suptitle('Utilities', fontsize=15)\n",
        "for a in range(4):\n",
        "    pl.subplot(1,4,a+1)\n",
        "    U = iterativePolicyEvaluation(mdp=mdp, policy=a, numIterations=numIterations)\n",
        "    mdp.gridPlot(ax=pl.gca(), im=U.reshape(10,10), title='a='+mdp.A[a], cmap='jet')\n",
        "pl.show()\n",
        "print(np.round(U.reshape(10,10),3))"
      ]
    },
    {
      "cell_type": "code",
      "execution_count": null,
      "metadata": {
        "colab": {
          "base_uri": "https://localhost:8080/",
          "height": 347,
          "referenced_widgets": [
            "7cfc4c2c1fa149daae7dac7be2c7aff9",
            "6c441237c7af4e7790f170d4481b9e29",
            "c957c55969a546fd8a11b6a09d33b22b",
            "db1abdb5c64a49e2b44cbdf408a4e1b3",
            "588585b3b530421791c1a796bdbf83c4",
            "aadaf14deabe4506b4b4ec3e53a78942",
            "03b7058123344ba088074f61b097ed37",
            "7f2a2e4627bd4173878de11a8383db6a",
            "0d0880e043f243c2964a2796e8cd16b7",
            "90b2d13ca43942b38096220d62a92461"
          ]
        },
        "id": "XcMijKgbsAv7",
        "outputId": "ce50ade6-c625-4eb3-cd38-837274574842"
      },
      "outputs": [
        {
          "data": {
            "application/vnd.jupyter.widget-view+json": {
              "model_id": "7cfc4c2c1fa149daae7dac7be2c7aff9",
              "version_major": 2,
              "version_minor": 0
            },
            "text/plain": [
              "interactive(children=(ToggleButtons(description='action', options=('left', 'right', 'up', 'down'), value='left…"
            ]
          },
          "metadata": {},
          "output_type": "display_data"
        }
      ],
      "source": [
        "def f(action, numIter=1):\n",
        "    U = iterativePolicyEvaluation(mdp, policy=mdp.A.index(action), numIterations=numIter)\n",
        "    pl.figure(figsize=(3,3))\n",
        "    mdp.gridPlot(ax=pl.gca(), im=U.reshape(10,10), title='Utility', cmap='jet')\n",
        "    pl.show()\n",
        "\n",
        "interactive_plot = interactive(f, action=widgets.ToggleButtons(options=['left', 'right', 'up', 'down']),\n",
        "                               numIter=widgets.IntSlider(min=0, max=20, step=1, value=0))\n",
        "interactive_plot"
      ]
    },
    {
      "cell_type": "code",
      "execution_count": null,
      "metadata": {
        "colab": {
          "base_uri": "https://localhost:8080/",
          "height": 282
        },
        "id": "-L8qvyKAsAv9",
        "outputId": "d157b2d3-2997-4719-cf41-512a882fb536"
      },
      "outputs": [
        {
          "data": {
            "image/png": "[encoded data removed]",
            "text/plain": [
              "<Figure size 300x300 with 2 Axes>"
            ]
          },
          "metadata": {},
          "output_type": "display_data"
        }
      ],
      "source": [
        "#Value iteration\n",
        "def valueIteration(mdp, numIterations=1):\n",
        "    U = np.zeros(len(mdp.S))\n",
        "    U_old = copy.copy(U)\n",
        "    for t in range(numIterations):\n",
        "      #Type\n",
        "        U_old = copy.copy(U)\n",
        "        for s in mdp.S:\n",
        "            # Compute max over all possible actions\n",
        "            U[s] = max(\n",
        "                mdp.R[s, a] + mdp.discount * np.sum(mdp.T[s, a, :] * U_old)\n",
        "                for a in range(len(mdp.A))\n",
        "            )\n",
        "    return U\n",
        "\n",
        "def policyExtration(mdp, U):\n",
        "    policy = np.zeros(len(mdp.S))\n",
        "    #type your code here\n",
        "    for s in mdp.S:\n",
        "        # Choose action that maximizes expected utility\n",
        "        policy[s] = np.argmax([\n",
        "            mdp.R[s, a] + mdp.discount * np.sum(mdp.T[s, a, :] * U)\n",
        "            for a in range(len(mdp.A))\n",
        "        ])\n",
        "    return policy\n",
        "\n",
        "U = valueIteration(mdp, numIterations=2)\n",
        "policy = policyExtration(mdp, U=U)\n",
        "pl.figure(figsize=(3,3))\n",
        "mdp.gridPlot(ax=pl.gca(), im=U.reshape(10,10), title='Utility', cmap='jet')\n",
        "for s in range(100):\n",
        "    x, y = mdp.s2xy(s)\n",
        "    if policy[s] == 0:\n",
        "        m='\\u02C2'\n",
        "    elif policy[s] == 1:\n",
        "        m='\\u02C3'\n",
        "    elif policy[s] == 2:\n",
        "        m='\\u02C4'\n",
        "    elif policy[s] == 3:\n",
        "        m='\\u02C5'\n",
        "    pl.text(x-0.5,y-1,m,color='k',size=20)\n",
        "pl.show()"
      ]
    },
    {
      "cell_type": "code",
      "execution_count": null,
      "metadata": {
        "colab": {
          "base_uri": "https://localhost:8080/",
          "height": 331,
          "referenced_widgets": [
            "f8bee5bd78e347f7803800f961dec469",
            "f18104c3803d4b39b2e9648acb809ec9",
            "937f8c7460e2450a81420590f68a4bc5",
            "7d6e5c262fda41a892c56efce83b7c5b",
            "2c5d76c8e13b4dd0b2b9b429a980b1e7",
            "f1c1bd0b6314428286f398f62c59aa5a",
            "d99c356283b54ce08b572cadb3169556"
          ]
        },
        "id": "W7Hvi7YdsAv_",
        "outputId": "29b5851f-a1bf-4beb-e1bc-cb3835ecd639"
      },
      "outputs": [
        {
          "data": {
            "application/vnd.jupyter.widget-view+json": {
              "model_id": "f8bee5bd78e347f7803800f961dec469",
              "version_major": 2,
              "version_minor": 0
            },
            "text/plain": [
              "interactive(children=(IntSlider(value=0, description='numIter', max=20), Output()), _dom_classes=('widget-inte…"
            ]
          },
          "metadata": {},
          "output_type": "display_data"
        }
      ],
      "source": [
        "def f(numIter=1):\n",
        "    start_time = timeit.default_timer()\n",
        "    U = valueIteration(mdp, numIterations=numIter)\n",
        "    policy = policyExtration(mdp, U=U)\n",
        "    elapsed = timeit.default_timer() - start_time\n",
        "    print('time=', np.round(elapsed*1000,2))\n",
        "    pl.figure(figsize=(3,3))\n",
        "    mdp.gridPlot(ax=pl.gca(), im=U.reshape(10,10), title='Utility', cmap='jet')\n",
        "    for s in range(100):\n",
        "        x, y = mdp.s2xy(s)\n",
        "        if policy[s] == 0:\n",
        "            m='\\u02C2'\n",
        "        elif policy[s] == 1:\n",
        "            m='\\u02C3'\n",
        "        elif policy[s] == 2:\n",
        "            m='\\u02C4'\n",
        "        elif policy[s] == 3:\n",
        "            m='\\u02C5'\n",
        "        pl.text(x-0.5,y-1,m,color='k',size=20)\n",
        "    pl.show()\n",
        "\n",
        "interactive_plot = interactive(f, numIter=widgets.IntSlider(min=0, max=20, step=1, value=0))\n",
        "interactive_plot"
      ]
    },
    {
      "cell_type": "markdown",
      "metadata": {
        "id": "6il1i5CesAwB"
      },
      "source": [
        "### 2. Policy iteration\n",
        "\n",
        "Policy evaluation can be used in policy iteration:\n",
        "1. Given the current policy, compute U\n",
        "2. Using U, compute a new policy"
      ]
    },
    {
      "cell_type": "code",
      "execution_count": null,
      "metadata": {
        "id": "5VzzQB0jsAwC"
      },
      "outputs": [],
      "source": [
        "def policyIteration(mdp, numIterations=1):\n",
        "    U_pi_k = np.zeros(len(mdp.S))  # initial values\n",
        "    pi_k = np.random.randint(low=0, high=len(mdp.A), size=len(mdp.S), dtype=int)  # initial policy\n",
        "    pi_kp1 = copy.copy(pi_k)\n",
        "\n",
        "    for t in range(numIterations):\n",
        "        # ---------------------------\n",
        "        # Policy Evaluation\n",
        "        # ---------------------------\n",
        "        U_old = copy.copy(U_pi_k)\n",
        "        # Iterative evaluation (can run a fixed number of iterations, e.g., 10)\n",
        "        for _ in range(10):\n",
        "            U_old = copy.copy(U_pi_k)\n",
        "            for s in mdp.S:\n",
        "                a = pi_k[s]\n",
        "                U_pi_k[s] = mdp.R[s, a] + mdp.discount * np.sum(mdp.T[s, a, :] * U_old)\n",
        "\n",
        "        # ---------------------------\n",
        "        # Policy Improvement\n",
        "        # ---------------------------\n",
        "        for s in mdp.S:\n",
        "            # Choose the action that maximizes expected utility\n",
        "            pi_kp1[s] = np.argmax([\n",
        "                mdp.R[s, a] + mdp.discount * np.sum(mdp.T[s, a, :] * U_pi_k)\n",
        "                for a in range(len(mdp.A))\n",
        "            ])\n",
        "\n",
        "        # Update policy\n",
        "        pi_k = copy.copy(pi_kp1)\n",
        "\n",
        "    return U_pi_k, pi_kp1\n",
        "\n",
        "# Run policy iteration\n",
        "U_pi_k, pi_kp1 = policyIteration(mdp, numIterations=2)\n"
      ]
    },
    {
      "cell_type": "code",
      "execution_count": null,
      "metadata": {
        "colab": {
          "base_uri": "https://localhost:8080/",
          "height": 331,
          "referenced_widgets": [
            "d267f335b5184f709ecd5e0aaf690019",
            "c20bc86b41314e01a3b533d6dd256c89",
            "1e84e3d7489a4ec5b79d5ad2e5510d0e",
            "5ea8e8ffd61c45729121bc010d761419",
            "d905e079e3bd43ccbb3385a950356714",
            "a916e301c5754c368258b088f3fb5069",
            "f588694e4af64caaa51a789ab3920406"
          ]
        },
        "id": "lSHVZ0CwsAwE",
        "outputId": "ada20848-57d6-4516-ea3c-83c95bbe964e"
      },
      "outputs": [
        {
          "data": {
            "application/vnd.jupyter.widget-view+json": {
              "model_id": "d267f335b5184f709ecd5e0aaf690019",
              "version_major": 2,
              "version_minor": 0
            },
            "text/plain": [
              "interactive(children=(IntSlider(value=0, description='numIter', max=20), Output()), _dom_classes=('widget-inte…"
            ]
          },
          "metadata": {},
          "output_type": "display_data"
        }
      ],
      "source": [
        "def f(numIter=1):\n",
        "    start_time = timeit.default_timer()\n",
        "    # code you want to evaluate\n",
        "    value, policy = policyIteration(mdp, numIterations=numIter)\n",
        "    elapsed = timeit.default_timer() - start_time\n",
        "    print('time=', np.round(elapsed*1000,2))\n",
        "    pl.figure(figsize=(3,3))\n",
        "    mdp.gridPlot(ax=pl.gca(), im=value.reshape(10,10), title='Utility', cmap='jet')\n",
        "    for s in range(100):\n",
        "        x, y = mdp.s2xy(s)\n",
        "        if policy[s] == 0:\n",
        "            m='\\u02C2'\n",
        "        elif policy[s] == 1:\n",
        "            m='\\u02C3'\n",
        "        elif policy[s] == 2:\n",
        "            m='\\u02C4'\n",
        "        elif policy[s] == 3:\n",
        "            m='\\u02C5'\n",
        "        pl.text(x-0.5,y-1,m,color='k',size=20)\n",
        "    pl.show()\n",
        "\n",
        "interactive_plot = interactive(f, numIter=widgets.IntSlider(min=0, max=20, step=1, value=0))\n",
        "interactive_plot"
      ]
    }
  ],
  "metadata": {
    "@webio": {
      "lastCommId": "21E8675012EB469B8DD225E5191E1594",
      "lastKernelId": "ec90fbfa-47cf-4656-a1ce-4ca4670e6701"
    },
    "colab": {
      "provenance": []
    },
    "kernelspec": {
      "display_name": "Python 3",
      "language": "python",
      "name": "python3"
    },
    "language_info": {
      "codemirror_mode": {
        "name": "ipython",
        "version": 3
      },
      "file_extension": ".py",
      "mimetype": "text/x-python",
      "name": "python",
      "nbconvert_exporter": "python",
      "pygments_lexer": "ipython3",
      "version": "3.8.8"
    },
    "widgets": {
      "application/vnd.jupyter.widget-state+json": {
        "03b7058123344ba088074f61b097ed37": {
          "model_module": "@jupyter-widgets/controls",
          "model_module_version": "1.5.0",
          "model_name": "ToggleButtonsStyleModel",
          "state": {
            "_model_module": "@jupyter-widgets/controls",
            "_model_module_version": "1.5.0",
            "_model_name": "ToggleButtonsStyleModel",
            "_view_count": null,
            "_view_module": "@jupyter-widgets/base",
            "_view_module_version": "1.2.0",
            "_view_name": "StyleView",
            "button_width": "",
            "description_width": "",
            "font_weight": ""
          }
        },
        "0d0880e043f243c2964a2796e8cd16b7": {
          "model_module": "@jupyter-widgets/controls",
          "model_module_version": "1.5.0",
          "model_name": "SliderStyleModel",
          "state": {
            "_model_module": "@jupyter-widgets/controls",
            "_model_module_version": "1.5.0",
            "_model_name": "SliderStyleModel",
            "_view_count": null,
            "_view_module": "@jupyter-widgets/base",
            "_view_module_version": "1.2.0",
            "_view_name": "StyleView",
            "description_width": "",
            "handle_color": null
          }
        },
        "1bed14f2331a4e95807ca0c3b0bf4561": {
          "model_module": "@jupyter-widgets/controls",
          "model_module_version": "1.5.0",
          "model_name": "ToggleButtonsModel",
          "state": {
            "_dom_classes": [],
            "_model_module": "@jupyter-widgets/controls",
            "_model_module_version": "1.5.0",
            "_model_name": "ToggleButtonsModel",
            "_options_labels": [
              "left",
              "right",
              "up",
              "down"
            ],
            "_view_count": null,
            "_view_module": "@jupyter-widgets/controls",
            "_view_module_version": "1.5.0",
            "_view_name": "ToggleButtonsView",
            "button_style": "",
            "description": "action",
            "description_tooltip": null,
            "disabled": false,
            "icons": [],
            "index": 0,
            "layout": "IPY_MODEL_bef2c3f4160e4d0aa02154edea29d626",
            "style": "IPY_MODEL_70d4b6b9ff8c4ea5ab30884c0c0fbc1a",
            "tooltips": []
          }
        },
        "1e84e3d7489a4ec5b79d5ad2e5510d0e": {
          "model_module": "@jupyter-widgets/output",
          "model_module_version": "1.0.0",
          "model_name": "OutputModel",
          "state": {
            "_dom_classes": [],
            "_model_module": "@jupyter-widgets/output",
            "_model_module_version": "1.0.0",
            "_model_name": "OutputModel",
            "_view_count": null,
            "_view_module": "@jupyter-widgets/output",
            "_view_module_version": "1.0.0",
            "_view_name": "OutputView",
            "layout": "IPY_MODEL_f588694e4af64caaa51a789ab3920406",
            "msg_id": "",
            "outputs": [
              {
                "name": "stdout",
                "output_type": "stream",
                "text": [
                  "time= 0.13\n"
                ]
              },
              {
                "data": {
                  "image/png": "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\n",
                  "text/plain": "<Figure size 300x300 with 2 Axes>"
                },
                "metadata": {},
                "output_type": "display_data"
              }
            ]
          }
        },
        "2c5d76c8e13b4dd0b2b9b429a980b1e7": {
          "model_module": "@jupyter-widgets/base",
          "model_module_version": "1.2.0",
          "model_name": "LayoutModel",
          "state": {
            "_model_module": "@jupyter-widgets/base",
            "_model_module_version": "1.2.0",
            "_model_name": "LayoutModel",
            "_view_count": null,
            "_view_module": "@jupyter-widgets/base",
            "_view_module_version": "1.2.0",
            "_view_name": "LayoutView",
            "align_content": null,
            "align_items": null,
            "align_self": null,
            "border": null,
            "bottom": null,
            "display": null,
            "flex": null,
            "flex_flow": null,
            "grid_area": null,
            "grid_auto_columns": null,
            "grid_auto_flow": null,
            "grid_auto_rows": null,
            "grid_column": null,
            "grid_gap": null,
            "grid_row": null,
            "grid_template_areas": null,
            "grid_template_columns": null,
            "grid_template_rows": null,
            "height": null,
            "justify_content": null,
            "justify_items": null,
            "left": null,
            "margin": null,
            "max_height": null,
            "max_width": null,
            "min_height": null,
            "min_width": null,
            "object_fit": null,
            "object_position": null,
            "order": null,
            "overflow": null,
            "overflow_x": null,
            "overflow_y": null,
            "padding": null,
            "right": null,
            "top": null,
            "visibility": null,
            "width": null
          }
        },
        "588585b3b530421791c1a796bdbf83c4": {
          "model_module": "@jupyter-widgets/base",
          "model_module_version": "1.2.0",
          "model_name": "LayoutModel",
          "state": {
            "_model_module": "@jupyter-widgets/base",
            "_model_module_version": "1.2.0",
            "_model_name": "LayoutModel",
            "_view_count": null,
            "_view_module": "@jupyter-widgets/base",
            "_view_module_version": "1.2.0",
            "_view_name": "LayoutView",
            "align_content": null,
            "align_items": null,
            "align_self": null,
            "border": null,
            "bottom": null,
            "display": null,
            "flex": null,
            "flex_flow": null,
            "grid_area": null,
            "grid_auto_columns": null,
            "grid_auto_flow": null,
            "grid_auto_rows": null,
            "grid_column": null,
            "grid_gap": null,
            "grid_row": null,
            "grid_template_areas": null,
            "grid_template_columns": null,
            "grid_template_rows": null,
            "height": null,
            "justify_content": null,
            "justify_items": null,
            "left": null,
            "margin": null,
            "max_height": null,
            "max_width": null,
            "min_height": null,
            "min_width": null,
            "object_fit": null,
            "object_position": null,
            "order": null,
            "overflow": null,
            "overflow_x": null,
            "overflow_y": null,
            "padding": null,
            "right": null,
            "top": null,
            "visibility": null,
            "width": null
          }
        },
        "5ea8e8ffd61c45729121bc010d761419": {
          "model_module": "@jupyter-widgets/base",
          "model_module_version": "1.2.0",
          "model_name": "LayoutModel",
          "state": {
            "_model_module": "@jupyter-widgets/base",
            "_model_module_version": "1.2.0",
            "_model_name": "LayoutModel",
            "_view_count": null,
            "_view_module": "@jupyter-widgets/base",
            "_view_module_version": "1.2.0",
            "_view_name": "LayoutView",
            "align_content": null,
            "align_items": null,
            "align_self": null,
            "border": null,
            "bottom": null,
            "display": null,
            "flex": null,
            "flex_flow": null,
            "grid_area": null,
            "grid_auto_columns": null,
            "grid_auto_flow": null,
            "grid_auto_rows": null,
            "grid_column": null,
            "grid_gap": null,
            "grid_row": null,
            "grid_template_areas": null,
            "grid_template_columns": null,
            "grid_template_rows": null,
            "height": null,
            "justify_content": null,
            "justify_items": null,
            "left": null,
            "margin": null,
            "max_height": null,
            "max_width": null,
            "min_height": null,
            "min_width": null,
            "object_fit": null,
            "object_position": null,
            "order": null,
            "overflow": null,
            "overflow_x": null,
            "overflow_y": null,
            "padding": null,
            "right": null,
            "top": null,
            "visibility": null,
            "width": null
          }
        },
        "6c441237c7af4e7790f170d4481b9e29": {
          "model_module": "@jupyter-widgets/controls",
          "model_module_version": "1.5.0",
          "model_name": "ToggleButtonsModel",
          "state": {
            "_dom_classes": [],
            "_model_module": "@jupyter-widgets/controls",
            "_model_module_version": "1.5.0",
            "_model_name": "ToggleButtonsModel",
            "_options_labels": [
              "left",
              "right",
              "up",
              "down"
            ],
            "_view_count": null,
            "_view_module": "@jupyter-widgets/controls",
            "_view_module_version": "1.5.0",
            "_view_name": "ToggleButtonsView",
            "button_style": "",
            "description": "action",
            "description_tooltip": null,
            "disabled": false,
            "icons": [],
            "index": 0,
            "layout": "IPY_MODEL_aadaf14deabe4506b4b4ec3e53a78942",
            "style": "IPY_MODEL_03b7058123344ba088074f61b097ed37",
            "tooltips": []
          }
        },
        "7008da84de8b491b89bc77c051de7e18": {
          "model_module": "@jupyter-widgets/controls",
          "model_module_version": "1.5.0",
          "model_name": "DescriptionStyleModel",
          "state": {
            "_model_module": "@jupyter-widgets/controls",
            "_model_module_version": "1.5.0",
            "_model_name": "DescriptionStyleModel",
            "_view_count": null,
            "_view_module": "@jupyter-widgets/base",
            "_view_module_version": "1.2.0",
            "_view_name": "StyleView",
            "description_width": ""
          }
        },
        "70d4b6b9ff8c4ea5ab30884c0c0fbc1a": {
          "model_module": "@jupyter-widgets/controls",
          "model_module_version": "1.5.0",
          "model_name": "ToggleButtonsStyleModel",
          "state": {
            "_model_module": "@jupyter-widgets/controls",
            "_model_module_version": "1.5.0",
            "_model_name": "ToggleButtonsStyleModel",
            "_view_count": null,
            "_view_module": "@jupyter-widgets/base",
            "_view_module_version": "1.2.0",
            "_view_name": "StyleView",
            "button_width": "",
            "description_width": "",
            "font_weight": ""
          }
        },
        "761ae482c8ee4cd1b214c58024fe8a3c": {
          "model_module": "@jupyter-widgets/base",
          "model_module_version": "1.2.0",
          "model_name": "LayoutModel",
          "state": {
            "_model_module": "@jupyter-widgets/base",
            "_model_module_version": "1.2.0",
            "_model_name": "LayoutModel",
            "_view_count": null,
            "_view_module": "@jupyter-widgets/base",
            "_view_module_version": "1.2.0",
            "_view_name": "LayoutView",
            "align_content": null,
            "align_items": null,
            "align_self": null,
            "border": null,
            "bottom": null,
            "display": null,
            "flex": null,
            "flex_flow": null,
            "grid_area": null,
            "grid_auto_columns": null,
            "grid_auto_flow": null,
            "grid_auto_rows": null,
            "grid_column": null,
            "grid_gap": null,
            "grid_row": null,
            "grid_template_areas": null,
            "grid_template_columns": null,
            "grid_template_rows": null,
            "height": null,
            "justify_content": null,
            "justify_items": null,
            "left": null,
            "margin": null,
            "max_height": null,
            "max_width": null,
            "min_height": null,
            "min_width": null,
            "object_fit": null,
            "object_position": null,
            "order": null,
            "overflow": null,
            "overflow_x": null,
            "overflow_y": null,
            "padding": null,
            "right": null,
            "top": null,
            "visibility": null,
            "width": null
          }
        },
        "7cca17d67baa47baa2597ad319e9ad32": {
          "model_module": "@jupyter-widgets/controls",
          "model_module_version": "1.5.0",
          "model_name": "TextModel",
          "state": {
            "_dom_classes": [],
            "_model_module": "@jupyter-widgets/controls",
            "_model_module_version": "1.5.0",
            "_model_name": "TextModel",
            "_view_count": null,
            "_view_module": "@jupyter-widgets/controls",
            "_view_module_version": "1.5.0",
            "_view_name": "TextView",
            "continuous_update": true,
            "description": "s0_y",
            "description_tooltip": null,
            "disabled": false,
            "layout": "IPY_MODEL_a71b14fbe4fe4491ab0e87880e4bc278",
            "placeholder": "​",
            "style": "IPY_MODEL_7008da84de8b491b89bc77c051de7e18",
            "value": "5"
          }
        },
        "7cfc4c2c1fa149daae7dac7be2c7aff9": {
          "model_module": "@jupyter-widgets/controls",
          "model_module_version": "1.5.0",
          "model_name": "VBoxModel",
          "state": {
            "_dom_classes": [
              "widget-interact"
            ],
            "_model_module": "@jupyter-widgets/controls",
            "_model_module_version": "1.5.0",
            "_model_name": "VBoxModel",
            "_view_count": null,
            "_view_module": "@jupyter-widgets/controls",
            "_view_module_version": "1.5.0",
            "_view_name": "VBoxView",
            "box_style": "",
            "children": [
              "IPY_MODEL_6c441237c7af4e7790f170d4481b9e29",
              "IPY_MODEL_c957c55969a546fd8a11b6a09d33b22b",
              "IPY_MODEL_db1abdb5c64a49e2b44cbdf408a4e1b3"
            ],
            "layout": "IPY_MODEL_588585b3b530421791c1a796bdbf83c4"
          }
        },
        "7d6e5c262fda41a892c56efce83b7c5b": {
          "model_module": "@jupyter-widgets/base",
          "model_module_version": "1.2.0",
          "model_name": "LayoutModel",
          "state": {
            "_model_module": "@jupyter-widgets/base",
            "_model_module_version": "1.2.0",
            "_model_name": "LayoutModel",
            "_view_count": null,
            "_view_module": "@jupyter-widgets/base",
            "_view_module_version": "1.2.0",
            "_view_name": "LayoutView",
            "align_content": null,
            "align_items": null,
            "align_self": null,
            "border": null,
            "bottom": null,
            "display": null,
            "flex": null,
            "flex_flow": null,
            "grid_area": null,
            "grid_auto_columns": null,
            "grid_auto_flow": null,
            "grid_auto_rows": null,
            "grid_column": null,
            "grid_gap": null,
            "grid_row": null,
            "grid_template_areas": null,
            "grid_template_columns": null,
            "grid_template_rows": null,
            "height": null,
            "justify_content": null,
            "justify_items": null,
            "left": null,
            "margin": null,
            "max_height": null,
            "max_width": null,
            "min_height": null,
            "min_width": null,
            "object_fit": null,
            "object_position": null,
            "order": null,
            "overflow": null,
            "overflow_x": null,
            "overflow_y": null,
            "padding": null,
            "right": null,
            "top": null,
            "visibility": null,
            "width": null
          }
        },
        "7f2a2e4627bd4173878de11a8383db6a": {
          "model_module": "@jupyter-widgets/base",
          "model_module_version": "1.2.0",
          "model_name": "LayoutModel",
          "state": {
            "_model_module": "@jupyter-widgets/base",
            "_model_module_version": "1.2.0",
            "_model_name": "LayoutModel",
            "_view_count": null,
            "_view_module": "@jupyter-widgets/base",
            "_view_module_version": "1.2.0",
            "_view_name": "LayoutView",
            "align_content": null,
            "align_items": null,
            "align_self": null,
            "border": null,
            "bottom": null,
            "display": null,
            "flex": null,
            "flex_flow": null,
            "grid_area": null,
            "grid_auto_columns": null,
            "grid_auto_flow": null,
            "grid_auto_rows": null,
            "grid_column": null,
            "grid_gap": null,
            "grid_row": null,
            "grid_template_areas": null,
            "grid_template_columns": null,
            "grid_template_rows": null,
            "height": null,
            "justify_content": null,
            "justify_items": null,
            "left": null,
            "margin": null,
            "max_height": null,
            "max_width": null,
            "min_height": null,
            "min_width": null,
            "object_fit": null,
            "object_position": null,
            "order": null,
            "overflow": null,
            "overflow_x": null,
            "overflow_y": null,
            "padding": null,
            "right": null,
            "top": null,
            "visibility": null,
            "width": null
          }
        },
        "90b2d13ca43942b38096220d62a92461": {
          "model_module": "@jupyter-widgets/base",
          "model_module_version": "1.2.0",
          "model_name": "LayoutModel",
          "state": {
            "_model_module": "@jupyter-widgets/base",
            "_model_module_version": "1.2.0",
            "_model_name": "LayoutModel",
            "_view_count": null,
            "_view_module": "@jupyter-widgets/base",
            "_view_module_version": "1.2.0",
            "_view_name": "LayoutView",
            "align_content": null,
            "align_items": null,
            "align_self": null,
            "border": null,
            "bottom": null,
            "display": null,
            "flex": null,
            "flex_flow": null,
            "grid_area": null,
            "grid_auto_columns": null,
            "grid_auto_flow": null,
            "grid_auto_rows": null,
            "grid_column": null,
            "grid_gap": null,
            "grid_row": null,
            "grid_template_areas": null,
            "grid_template_columns": null,
            "grid_template_rows": null,
            "height": null,
            "justify_content": null,
            "justify_items": null,
            "left": null,
            "margin": null,
            "max_height": null,
            "max_width": null,
            "min_height": null,
            "min_width": null,
            "object_fit": null,
            "object_position": null,
            "order": null,
            "overflow": null,
            "overflow_x": null,
            "overflow_y": null,
            "padding": null,
            "right": null,
            "top": null,
            "visibility": null,
            "width": null
          }
        },
        "937f8c7460e2450a81420590f68a4bc5": {
          "model_module": "@jupyter-widgets/output",
          "model_module_version": "1.0.0",
          "model_name": "OutputModel",
          "state": {
            "_dom_classes": [],
            "_model_module": "@jupyter-widgets/output",
            "_model_module_version": "1.0.0",
            "_model_name": "OutputModel",
            "_view_count": null,
            "_view_module": "@jupyter-widgets/output",
            "_view_module_version": "1.0.0",
            "_view_name": "OutputView",
            "layout": "IPY_MODEL_d99c356283b54ce08b572cadb3169556",
            "msg_id": "",
            "outputs": [
              {
                "name": "stdout",
                "output_type": "stream",
                "text": [
                  "time= 5.66\n"
                ]
              },
              {
                "data": {
                  "image/png": "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\n",
                  "text/plain": "<Figure size 300x300 with 2 Axes>"
                },
                "metadata": {},
                "output_type": "display_data"
              }
            ]
          }
        },
        "a71b14fbe4fe4491ab0e87880e4bc278": {
          "model_module": "@jupyter-widgets/base",
          "model_module_version": "1.2.0",
          "model_name": "LayoutModel",
          "state": {
            "_model_module": "@jupyter-widgets/base",
            "_model_module_version": "1.2.0",
            "_model_name": "LayoutModel",
            "_view_count": null,
            "_view_module": "@jupyter-widgets/base",
            "_view_module_version": "1.2.0",
            "_view_name": "LayoutView",
            "align_content": null,
            "align_items": null,
            "align_self": null,
            "border": null,
            "bottom": null,
            "display": null,
            "flex": null,
            "flex_flow": null,
            "grid_area": null,
            "grid_auto_columns": null,
            "grid_auto_flow": null,
            "grid_auto_rows": null,
            "grid_column": null,
            "grid_gap": null,
            "grid_row": null,
            "grid_template_areas": null,
            "grid_template_columns": null,
            "grid_template_rows": null,
            "height": null,
            "justify_content": null,
            "justify_items": null,
            "left": null,
            "margin": null,
            "max_height": null,
            "max_width": null,
            "min_height": null,
            "min_width": null,
            "object_fit": null,
            "object_position": null,
            "order": null,
            "overflow": null,
            "overflow_x": null,
            "overflow_y": null,
            "padding": null,
            "right": null,
            "top": null,
            "visibility": null,
            "width": null
          }
        },
        "a916e301c5754c368258b088f3fb5069": {
          "model_module": "@jupyter-widgets/controls",
          "model_module_version": "1.5.0",
          "model_name": "SliderStyleModel",
          "state": {
            "_model_module": "@jupyter-widgets/controls",
            "_model_module_version": "1.5.0",
            "_model_name": "SliderStyleModel",
            "_view_count": null,
            "_view_module": "@jupyter-widgets/base",
            "_view_module_version": "1.2.0",
            "_view_name": "StyleView",
            "description_width": "",
            "handle_color": null
          }
        },
        "aadaf14deabe4506b4b4ec3e53a78942": {
          "model_module": "@jupyter-widgets/base",
          "model_module_version": "1.2.0",
          "model_name": "LayoutModel",
          "state": {
            "_model_module": "@jupyter-widgets/base",
            "_model_module_version": "1.2.0",
            "_model_name": "LayoutModel",
            "_view_count": null,
            "_view_module": "@jupyter-widgets/base",
            "_view_module_version": "1.2.0",
            "_view_name": "LayoutView",
            "align_content": null,
            "align_items": null,
            "align_self": null,
            "border": null,
            "bottom": null,
            "display": null,
            "flex": null,
            "flex_flow": null,
            "grid_area": null,
            "grid_auto_columns": null,
            "grid_auto_flow": null,
            "grid_auto_rows": null,
            "grid_column": null,
            "grid_gap": null,
            "grid_row": null,
            "grid_template_areas": null,
            "grid_template_columns": null,
            "grid_template_rows": null,
            "height": null,
            "justify_content": null,
            "justify_items": null,
            "left": null,
            "margin": null,
            "max_height": null,
            "max_width": null,
            "min_height": null,
            "min_width": null,
            "object_fit": null,
            "object_position": null,
            "order": null,
            "overflow": null,
            "overflow_x": null,
            "overflow_y": null,
            "padding": null,
            "right": null,
            "top": null,
            "visibility": null,
            "width": null
          }
        },
        "af0f81e6d44a46ab9207cc2712519489": {
          "model_module": "@jupyter-widgets/output",
          "model_module_version": "1.0.0",
          "model_name": "OutputModel",
          "state": {
            "_dom_classes": [],
            "_model_module": "@jupyter-widgets/output",
            "_model_module_version": "1.0.0",
            "_model_name": "OutputModel",
            "_view_count": null,
            "_view_module": "@jupyter-widgets/output",
            "_view_module_version": "1.0.0",
            "_view_name": "OutputView",
            "layout": "IPY_MODEL_761ae482c8ee4cd1b214c58024fe8a3c",
            "msg_id": "",
            "outputs": [
              {
                "data": {
                  "image/png": "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\n",
                  "text/plain": "<Figure size 600x600 with 2 Axes>"
                },
                "metadata": {},
                "output_type": "display_data"
              }
            ]
          }
        },
        "b5ac74386c02452b999756a0621ce092": {
          "model_module": "@jupyter-widgets/base",
          "model_module_version": "1.2.0",
          "model_name": "LayoutModel",
          "state": {
            "_model_module": "@jupyter-widgets/base",
            "_model_module_version": "1.2.0",
            "_model_name": "LayoutModel",
            "_view_count": null,
            "_view_module": "@jupyter-widgets/base",
            "_view_module_version": "1.2.0",
            "_view_name": "LayoutView",
            "align_content": null,
            "align_items": null,
            "align_self": null,
            "border": null,
            "bottom": null,
            "display": null,
            "flex": null,
            "flex_flow": null,
            "grid_area": null,
            "grid_auto_columns": null,
            "grid_auto_flow": null,
            "grid_auto_rows": null,
            "grid_column": null,
            "grid_gap": null,
            "grid_row": null,
            "grid_template_areas": null,
            "grid_template_columns": null,
            "grid_template_rows": null,
            "height": null,
            "justify_content": null,
            "justify_items": null,
            "left": null,
            "margin": null,
            "max_height": null,
            "max_width": null,
            "min_height": null,
            "min_width": null,
            "object_fit": null,
            "object_position": null,
            "order": null,
            "overflow": null,
            "overflow_x": null,
            "overflow_y": null,
            "padding": null,
            "right": null,
            "top": null,
            "visibility": null,
            "width": null
          }
        },
        "bef2c3f4160e4d0aa02154edea29d626": {
          "model_module": "@jupyter-widgets/base",
          "model_module_version": "1.2.0",
          "model_name": "LayoutModel",
          "state": {
            "_model_module": "@jupyter-widgets/base",
            "_model_module_version": "1.2.0",
            "_model_name": "LayoutModel",
            "_view_count": null,
            "_view_module": "@jupyter-widgets/base",
            "_view_module_version": "1.2.0",
            "_view_name": "LayoutView",
            "align_content": null,
            "align_items": null,
            "align_self": null,
            "border": null,
            "bottom": null,
            "display": null,
            "flex": null,
            "flex_flow": null,
            "grid_area": null,
            "grid_auto_columns": null,
            "grid_auto_flow": null,
            "grid_auto_rows": null,
            "grid_column": null,
            "grid_gap": null,
            "grid_row": null,
            "grid_template_areas": null,
            "grid_template_columns": null,
            "grid_template_rows": null,
            "height": null,
            "justify_content": null,
            "justify_items": null,
            "left": null,
            "margin": null,
            "max_height": null,
            "max_width": null,
            "min_height": null,
            "min_width": null,
            "object_fit": null,
            "object_position": null,
            "order": null,
            "overflow": null,
            "overflow_x": null,
            "overflow_y": null,
            "padding": null,
            "right": null,
            "top": null,
            "visibility": null,
            "width": null
          }
        },
        "c20bc86b41314e01a3b533d6dd256c89": {
          "model_module": "@jupyter-widgets/controls",
          "model_module_version": "1.5.0",
          "model_name": "IntSliderModel",
          "state": {
            "_dom_classes": [],
            "_model_module": "@jupyter-widgets/controls",
            "_model_module_version": "1.5.0",
            "_model_name": "IntSliderModel",
            "_view_count": null,
            "_view_module": "@jupyter-widgets/controls",
            "_view_module_version": "1.5.0",
            "_view_name": "IntSliderView",
            "continuous_update": true,
            "description": "numIter",
            "description_tooltip": null,
            "disabled": false,
            "layout": "IPY_MODEL_d905e079e3bd43ccbb3385a950356714",
            "max": 20,
            "min": 0,
            "orientation": "horizontal",
            "readout": true,
            "readout_format": "d",
            "step": 1,
            "style": "IPY_MODEL_a916e301c5754c368258b088f3fb5069",
            "value": 0
          }
        },
        "c957c55969a546fd8a11b6a09d33b22b": {
          "model_module": "@jupyter-widgets/controls",
          "model_module_version": "1.5.0",
          "model_name": "IntSliderModel",
          "state": {
            "_dom_classes": [],
            "_model_module": "@jupyter-widgets/controls",
            "_model_module_version": "1.5.0",
            "_model_name": "IntSliderModel",
            "_view_count": null,
            "_view_module": "@jupyter-widgets/controls",
            "_view_module_version": "1.5.0",
            "_view_name": "IntSliderView",
            "continuous_update": true,
            "description": "numIter",
            "description_tooltip": null,
            "disabled": false,
            "layout": "IPY_MODEL_7f2a2e4627bd4173878de11a8383db6a",
            "max": 20,
            "min": 0,
            "orientation": "horizontal",
            "readout": true,
            "readout_format": "d",
            "step": 1,
            "style": "IPY_MODEL_0d0880e043f243c2964a2796e8cd16b7",
            "value": 0
          }
        },
        "cbe2eed9c6834fdabaf8fb343a6237dd": {
          "model_module": "@jupyter-widgets/base",
          "model_module_version": "1.2.0",
          "model_name": "LayoutModel",
          "state": {
            "_model_module": "@jupyter-widgets/base",
            "_model_module_version": "1.2.0",
            "_model_name": "LayoutModel",
            "_view_count": null,
            "_view_module": "@jupyter-widgets/base",
            "_view_module_version": "1.2.0",
            "_view_name": "LayoutView",
            "align_content": null,
            "align_items": null,
            "align_self": null,
            "border": null,
            "bottom": null,
            "display": null,
            "flex": null,
            "flex_flow": null,
            "grid_area": null,
            "grid_auto_columns": null,
            "grid_auto_flow": null,
            "grid_auto_rows": null,
            "grid_column": null,
            "grid_gap": null,
            "grid_row": null,
            "grid_template_areas": null,
            "grid_template_columns": null,
            "grid_template_rows": null,
            "height": null,
            "justify_content": null,
            "justify_items": null,
            "left": null,
            "margin": null,
            "max_height": null,
            "max_width": null,
            "min_height": null,
            "min_width": null,
            "object_fit": null,
            "object_position": null,
            "order": null,
            "overflow": null,
            "overflow_x": null,
            "overflow_y": null,
            "padding": null,
            "right": null,
            "top": null,
            "visibility": null,
            "width": null
          }
        },
        "d267f335b5184f709ecd5e0aaf690019": {
          "model_module": "@jupyter-widgets/controls",
          "model_module_version": "1.5.0",
          "model_name": "VBoxModel",
          "state": {
            "_dom_classes": [
              "widget-interact"
            ],
            "_model_module": "@jupyter-widgets/controls",
            "_model_module_version": "1.5.0",
            "_model_name": "VBoxModel",
            "_view_count": null,
            "_view_module": "@jupyter-widgets/controls",
            "_view_module_version": "1.5.0",
            "_view_name": "VBoxView",
            "box_style": "",
            "children": [
              "IPY_MODEL_c20bc86b41314e01a3b533d6dd256c89",
              "IPY_MODEL_1e84e3d7489a4ec5b79d5ad2e5510d0e"
            ],
            "layout": "IPY_MODEL_5ea8e8ffd61c45729121bc010d761419"
          }
        },
        "d4d5af6abf30421b8e3fc1f9e6c0c23e": {
          "model_module": "@jupyter-widgets/controls",
          "model_module_version": "1.5.0",
          "model_name": "TextModel",
          "state": {
            "_dom_classes": [],
            "_model_module": "@jupyter-widgets/controls",
            "_model_module_version": "1.5.0",
            "_model_name": "TextModel",
            "_view_count": null,
            "_view_module": "@jupyter-widgets/controls",
            "_view_module_version": "1.5.0",
            "_view_name": "TextView",
            "continuous_update": true,
            "description": "s0_x",
            "description_tooltip": null,
            "disabled": false,
            "layout": "IPY_MODEL_cbe2eed9c6834fdabaf8fb343a6237dd",
            "placeholder": "​",
            "style": "IPY_MODEL_d699034737d94995b3319e1376bee271",
            "value": "4"
          }
        },
        "d699034737d94995b3319e1376bee271": {
          "model_module": "@jupyter-widgets/controls",
          "model_module_version": "1.5.0",
          "model_name": "DescriptionStyleModel",
          "state": {
            "_model_module": "@jupyter-widgets/controls",
            "_model_module_version": "1.5.0",
            "_model_name": "DescriptionStyleModel",
            "_view_count": null,
            "_view_module": "@jupyter-widgets/base",
            "_view_module_version": "1.2.0",
            "_view_name": "StyleView",
            "description_width": ""
          }
        },
        "d905e079e3bd43ccbb3385a950356714": {
          "model_module": "@jupyter-widgets/base",
          "model_module_version": "1.2.0",
          "model_name": "LayoutModel",
          "state": {
            "_model_module": "@jupyter-widgets/base",
            "_model_module_version": "1.2.0",
            "_model_name": "LayoutModel",
            "_view_count": null,
            "_view_module": "@jupyter-widgets/base",
            "_view_module_version": "1.2.0",
            "_view_name": "LayoutView",
            "align_content": null,
            "align_items": null,
            "align_self": null,
            "border": null,
            "bottom": null,
            "display": null,
            "flex": null,
            "flex_flow": null,
            "grid_area": null,
            "grid_auto_columns": null,
            "grid_auto_flow": null,
            "grid_auto_rows": null,
            "grid_column": null,
            "grid_gap": null,
            "grid_row": null,
            "grid_template_areas": null,
            "grid_template_columns": null,
            "grid_template_rows": null,
            "height": null,
            "justify_content": null,
            "justify_items": null,
            "left": null,
            "margin": null,
            "max_height": null,
            "max_width": null,
            "min_height": null,
            "min_width": null,
            "object_fit": null,
            "object_position": null,
            "order": null,
            "overflow": null,
            "overflow_x": null,
            "overflow_y": null,
            "padding": null,
            "right": null,
            "top": null,
            "visibility": null,
            "width": null
          }
        },
        "d99c356283b54ce08b572cadb3169556": {
          "model_module": "@jupyter-widgets/base",
          "model_module_version": "1.2.0",
          "model_name": "LayoutModel",
          "state": {
            "_model_module": "@jupyter-widgets/base",
            "_model_module_version": "1.2.0",
            "_model_name": "LayoutModel",
            "_view_count": null,
            "_view_module": "@jupyter-widgets/base",
            "_view_module_version": "1.2.0",
            "_view_name": "LayoutView",
            "align_content": null,
            "align_items": null,
            "align_self": null,
            "border": null,
            "bottom": null,
            "display": null,
            "flex": null,
            "flex_flow": null,
            "grid_area": null,
            "grid_auto_columns": null,
            "grid_auto_flow": null,
            "grid_auto_rows": null,
            "grid_column": null,
            "grid_gap": null,
            "grid_row": null,
            "grid_template_areas": null,
            "grid_template_columns": null,
            "grid_template_rows": null,
            "height": null,
            "justify_content": null,
            "justify_items": null,
            "left": null,
            "margin": null,
            "max_height": null,
            "max_width": null,
            "min_height": null,
            "min_width": null,
            "object_fit": null,
            "object_position": null,
            "order": null,
            "overflow": null,
            "overflow_x": null,
            "overflow_y": null,
            "padding": null,
            "right": null,
            "top": null,
            "visibility": null,
            "width": null
          }
        },
        "db1abdb5c64a49e2b44cbdf408a4e1b3": {
          "model_module": "@jupyter-widgets/output",
          "model_module_version": "1.0.0",
          "model_name": "OutputModel",
          "state": {
            "_dom_classes": [],
            "_model_module": "@jupyter-widgets/output",
            "_model_module_version": "1.0.0",
            "_model_name": "OutputModel",
            "_view_count": null,
            "_view_module": "@jupyter-widgets/output",
            "_view_module_version": "1.0.0",
            "_view_name": "OutputView",
            "layout": "IPY_MODEL_90b2d13ca43942b38096220d62a92461",
            "msg_id": "",
            "outputs": [
              {
                "data": {
                  "image/png": "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\n",
                  "text/plain": "<Figure size 300x300 with 2 Axes>"
                },
                "metadata": {},
                "output_type": "display_data"
              }
            ]
          }
        },
        "e3e997350d6b460cb930cb4cbcd72387": {
          "model_module": "@jupyter-widgets/controls",
          "model_module_version": "1.5.0",
          "model_name": "VBoxModel",
          "state": {
            "_dom_classes": [
              "widget-interact"
            ],
            "_model_module": "@jupyter-widgets/controls",
            "_model_module_version": "1.5.0",
            "_model_name": "VBoxModel",
            "_view_count": null,
            "_view_module": "@jupyter-widgets/controls",
            "_view_module_version": "1.5.0",
            "_view_name": "VBoxView",
            "box_style": "",
            "children": [
              "IPY_MODEL_d4d5af6abf30421b8e3fc1f9e6c0c23e",
              "IPY_MODEL_7cca17d67baa47baa2597ad319e9ad32",
              "IPY_MODEL_1bed14f2331a4e95807ca0c3b0bf4561",
              "IPY_MODEL_af0f81e6d44a46ab9207cc2712519489"
            ],
            "layout": "IPY_MODEL_b5ac74386c02452b999756a0621ce092"
          }
        },
        "f18104c3803d4b39b2e9648acb809ec9": {
          "model_module": "@jupyter-widgets/controls",
          "model_module_version": "1.5.0",
          "model_name": "IntSliderModel",
          "state": {
            "_dom_classes": [],
            "_model_module": "@jupyter-widgets/controls",
            "_model_module_version": "1.5.0",
            "_model_name": "IntSliderModel",
            "_view_count": null,
            "_view_module": "@jupyter-widgets/controls",
            "_view_module_version": "1.5.0",
            "_view_name": "IntSliderView",
            "continuous_update": true,
            "description": "numIter",
            "description_tooltip": null,
            "disabled": false,
            "layout": "IPY_MODEL_2c5d76c8e13b4dd0b2b9b429a980b1e7",
            "max": 20,
            "min": 0,
            "orientation": "horizontal",
            "readout": true,
            "readout_format": "d",
            "step": 1,
            "style": "IPY_MODEL_f1c1bd0b6314428286f398f62c59aa5a",
            "value": 0
          }
        },
        "f1c1bd0b6314428286f398f62c59aa5a": {
          "model_module": "@jupyter-widgets/controls",
          "model_module_version": "1.5.0",
          "model_name": "SliderStyleModel",
          "state": {
            "_model_module": "@jupyter-widgets/controls",
            "_model_module_version": "1.5.0",
            "_model_name": "SliderStyleModel",
            "_view_count": null,
            "_view_module": "@jupyter-widgets/base",
            "_view_module_version": "1.2.0",
            "_view_name": "StyleView",
            "description_width": "",
            "handle_color": null
          }
        },
        "f588694e4af64caaa51a789ab3920406": {
          "model_module": "@jupyter-widgets/base",
          "model_module_version": "1.2.0",
          "model_name": "LayoutModel",
          "state": {
            "_model_module": "@jupyter-widgets/base",
            "_model_module_version": "1.2.0",
            "_model_name": "LayoutModel",
            "_view_count": null,
            "_view_module": "@jupyter-widgets/base",
            "_view_module_version": "1.2.0",
            "_view_name": "LayoutView",
            "align_content": null,
            "align_items": null,
            "align_self": null,
            "border": null,
            "bottom": null,
            "display": null,
            "flex": null,
            "flex_flow": null,
            "grid_area": null,
            "grid_auto_columns": null,
            "grid_auto_flow": null,
            "grid_auto_rows": null,
            "grid_column": null,
            "grid_gap": null,
            "grid_row": null,
            "grid_template_areas": null,
            "grid_template_columns": null,
            "grid_template_rows": null,
            "height": null,
            "justify_content": null,
            "justify_items": null,
            "left": null,
            "margin": null,
            "max_height": null,
            "max_width": null,
            "min_height": null,
            "min_width": null,
            "object_fit": null,
            "object_position": null,
            "order": null,
            "overflow": null,
            "overflow_x": null,
            "overflow_y": null,
            "padding": null,
            "right": null,
            "top": null,
            "visibility": null,
            "width": null
          }
        },
        "f8bee5bd78e347f7803800f961dec469": {
          "model_module": "@jupyter-widgets/controls",
          "model_module_version": "1.5.0",
          "model_name": "VBoxModel",
          "state": {
            "_dom_classes": [
              "widget-interact"
            ],
            "_model_module": "@jupyter-widgets/controls",
            "_model_module_version": "1.5.0",
            "_model_name": "VBoxModel",
            "_view_count": null,
            "_view_module": "@jupyter-widgets/controls",
            "_view_module_version": "1.5.0",
            "_view_name": "VBoxView",
            "box_style": "",
            "children": [
              "IPY_MODEL_f18104c3803d4b39b2e9648acb809ec9",
              "IPY_MODEL_937f8c7460e2450a81420590f68a4bc5"
            ],
            "layout": "IPY_MODEL_7d6e5c262fda41a892c56efce83b7c5b"
          }
        }
      }
    }
  },
  "nbformat": 4,
  "nbformat_minor": 0
}
