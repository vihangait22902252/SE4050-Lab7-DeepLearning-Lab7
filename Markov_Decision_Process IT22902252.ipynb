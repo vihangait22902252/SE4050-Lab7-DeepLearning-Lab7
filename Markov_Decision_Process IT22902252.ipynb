{
  "cells": [
    {
      "cell_type": "markdown",
      "metadata": {
        "id": "-LMwDZHlsAvn"
      },
      "source": [
        "# Markov Decision Process (MDP)"
      ]
    },
    {
      "cell_type": "markdown",
      "metadata": {
        "id": "rK2etKh-sAvo"
      },
      "source": [
        "### Ransalu Senanayake"
      ]
    },
    {
      "cell_type": "code",
      "execution_count": null,
      "metadata": {
        "id": "Tlr-PNcssAvp"
      },
      "outputs": [],
      "source": [
        "import copy\n",
        "import timeit\n",
        "import numpy as np\n",
        "import matplotlib.pyplot as pl\n",
        "%matplotlib inline\n",
        "from ipywidgets import interactive\n",
        "import ipywidgets as widgets"
      ]
    },
    {
      "cell_type": "markdown",
      "metadata": {
        "id": "_f6VSXlQsAvs"
      },
      "source": [
        "Create the following grid world.\n",
        "\n",
        "**States:** A 10x10 grid\n",
        "\n",
        "**Actions:** Up, Down, Left, Right\n",
        "\n",
        "**Tranistion probabilities:**\n",
        "* 0.7 in the direction of action\n",
        "* 0.1 in the three other directions\n",
        "* The robot bounces back to the same state near edges\n",
        "\n",
        "**Rewards:**\n",
        "* (7,8) has a reward +10\n",
        "* (2,7) has a reward +3\n",
        "* (4,3) has a reward -5\n",
        "* (7,3) has a reward -10\n",
        "* No reward in other states\n",
        "\n",
        "This example is based on Decision Making Under Uncertainty by M.J. Kochenderfer."
      ]
    },
    {
      "cell_type": "code",
      "execution_count": null,
      "metadata": {
        "id": "sbT7VOEQsAvt"
      },
      "outputs": [],
      "source": [
        "#Let's define MDP paras\n",
        "def createGrid10World():\n",
        "    def xy2s(y, x):\n",
        "        x = max(x, 0)\n",
        "        y = max(y, 0)\n",
        "        x = min(x, 9)\n",
        "        y = min(y, 9)\n",
        "        out = np.ravel_multi_index(np.array([x,y]), (10,10))\n",
        "        return out\n",
        "\n",
        "    def s2xy(s):\n",
        "        x, y = np.unravel_index(s, (10,10))\n",
        "        return y, x\n",
        "\n",
        "    def gridPlot(ax, im, title='', cmap='Blues'):\n",
        "        pl.imshow(im, interpolation='none', cmap=cmap, origin='lower')\n",
        "        pl.colorbar()\n",
        "        ax.set_xticks(np.arange(0, 10, 1));\n",
        "        ax.set_yticks(np.arange(0, 10, 1));\n",
        "        ax.set_xticklabels(np.arange(0, 10, 1));\n",
        "        ax.set_yticklabels(np.arange(0, 10, 1));\n",
        "        ax.set_xticks(np.arange(-.5, 10, 1), minor=True);\n",
        "        ax.set_yticks(np.arange(-.5, 10, 1), minor=True);\n",
        "        ax.grid(which='minor', color='w', linestyle='-', linewidth=1)\n",
        "        pl.title(title);\n",
        "        return\n",
        "\n",
        "    A = ['left', 'right', 'up', 'down']\n",
        "    S = np.arange(100)\n",
        "    T = np.zeros((len(S), len(A), len(S)))\n",
        "    R = np.zeros((len(S), len(A)))\n",
        "    for s in S:\n",
        "        x, y = s2xy(s)\n",
        "        if x == 2 and y == 7:\n",
        "            R[s, :] = 3\n",
        "        elif x == 7 and y == 8:\n",
        "            R[s, :] = 10\n",
        "        else:\n",
        "            if x == 7 and y == 3:\n",
        "                R[s, :] = -10\n",
        "            elif x == 4 and y == 3:\n",
        "                R[s, :] = -5\n",
        "            elif x == 0:\n",
        "                if y == 0 or y == 9:\n",
        "                    R[s, :] = -0.2\n",
        "                else:\n",
        "                    R[s, :] = -0.1\n",
        "                R[s, 0] = -0.7\n",
        "            elif x == 9:\n",
        "                if y == 0 or y == 9:\n",
        "                    R[s, :] = -0.2\n",
        "                else:\n",
        "                    R[s, :] = -0.1\n",
        "                R[s, 1] = -0.7\n",
        "            elif y == 0:\n",
        "                if x == 0 or x == 9:\n",
        "                    R[s, :] = -0.2\n",
        "                else:\n",
        "                    R[s, :] = -0.1\n",
        "                R[s, 3] = -0.7\n",
        "            elif y == 9:\n",
        "                if x == 0 or x == 9:\n",
        "                    R[s, :] = -0.2\n",
        "                else:\n",
        "                    R[s, :] = -0.1\n",
        "                R[s, 2] = -0.7\n",
        "\n",
        "            for a in A:\n",
        "                if a == 'left':\n",
        "                    T[s, 0, xy2s(x - 1, y)] += 0.7\n",
        "                    T[s, 0, xy2s(x + 1, y)] += 0.1\n",
        "                    T[s, 0, xy2s(x, y - 1)] += 0.1\n",
        "                    T[s, 0, xy2s(x, y + 1)] += 0.1\n",
        "                elif a == 'right':\n",
        "                    T[s, 1, xy2s(x + 1, y)] += 0.7\n",
        "                    T[s, 1, xy2s(x - 1, y)] += 0.1\n",
        "                    T[s, 1, xy2s(x, y - 1)] += 0.1\n",
        "                    T[s, 1, xy2s(x, y + 1)] += 0.1\n",
        "                elif a == 'up':\n",
        "                    T[s, 2, xy2s(x, y + 1)] += 0.7\n",
        "                    T[s, 2, xy2s(x, y - 1)] += 0.1\n",
        "                    T[s, 2, xy2s(x - 1, y)] += 0.1\n",
        "                    T[s, 2, xy2s(x + 1, y)] += 0.1\n",
        "                elif a == 'down':\n",
        "                    T[s, 3, xy2s(x, y - 1)] += 0.7\n",
        "                    T[s, 3, xy2s(x, y + 1)] += 0.1\n",
        "                    T[s, 3, xy2s(x - 1, y)] += 0.1\n",
        "                    T[s, 3, xy2s(x + 1, y)] += 0.1\n",
        "\n",
        "    for a, c_x, c_y in [(0,0,0), (0,0,9),(1,9,0),(1,9,9),(2,0,9),(2,9,9),(3,0,0),(3,9,0)]:\n",
        "        R[xy2s(c_x,c_y),a] = -0.8\n",
        "\n",
        "    discount = 0.9\n",
        "\n",
        "    nextStates = {}\n",
        "    for si in range(len(S)):\n",
        "        for ai in range(len(A)):\n",
        "            nextStates[(si,ai)] = np.where((T[si, ai, :] != 0) == True)[0]\n",
        "\n",
        "    return {'S':S, 'A':A, 'T':T, 'R':R, 'discount':discount, 'nextStates':nextStates, 'gridPlot':gridPlot, 'xy2s':xy2s, 's2xy':s2xy}"
      ]
    },
    {
      "cell_type": "code",
      "execution_count": null,
      "metadata": {
        "id": "BylriiRqsAvv"
      },
      "outputs": [],
      "source": [
        "class MDP():\n",
        "    def __init__(self):\n",
        "        pass\n",
        "\n",
        "    def inbuilt_init(self, mdp_dict):\n",
        "        self.S = mdp_dict['S']\n",
        "        self.A = mdp_dict['A']\n",
        "        self.T = mdp_dict['T']\n",
        "        self.R = mdp_dict['R']\n",
        "        self.discount = mdp_dict['discount']\n",
        "        self.nextStates = mdp_dict['nextStates']\n",
        "        self.gridPlot = mdp_dict['gridPlot']\n",
        "        self.xy2s = mdp_dict['xy2s']\n",
        "        self.s2xy = mdp_dict['s2xy']"
      ]
    },
    {
      "cell_type": "code",
      "execution_count": null,
      "metadata": {
        "colab": {
          "base_uri": "https://localhost:8080/",
          "height": 1000
        },
        "id": "QGcCuJpasAvy",
        "outputId": "9c0bfe78-e2b3-4e70-866b-9054584a3313"
      },
      "outputs": [
        {
          "output_type": "display_data",
          "data": {
            "text/plain": [
              "<Figure size 300x300 with 2 Axes>"
            ],
            "image/png": "[encoded data removed]"
          },
          "metadata": {}
        },
        {
          "output_type": "display_data",
          "data": {
            "text/plain": [
              "<Figure size 1500x300 with 8 Axes>"
            ],
            "image/png": "[encoded data removed]"
          },
          "metadata": {}
        },
        {
          "output_type": "display_data",
          "data": {
            "text/plain": [
              "<Figure size 1500x300 with 8 Axes>"
            ],
            "image/png": "[encoded data removed]"
          },
          "metadata": {}
        },
        {
          "output_type": "display_data",
          "data": {
            "text/plain": [
              "<Figure size 1500x300 with 8 Axes>"
            ],
            "image/png": "[encoded data removed]"
          },
          "metadata": {}
        }
      ],
      "source": [
        "#Define the MDP\n",
        "mdp = MDP()\n",
        "mdp.inbuilt_init(mdp_dict=createGrid10World())\n",
        "\n",
        "#Plot states\n",
        "pl.figure(figsize=(3,3))\n",
        "mdp.gridPlot(ax=pl.gca(), im=mdp.S.reshape((10,10)), title='States', cmap='Greys')\n",
        "\n",
        "#Plot rewards\n",
        "pl.figure(figsize=(15,3))\n",
        "pl.suptitle('Rewards', fontsize=15)\n",
        "for a in range(4):\n",
        "    pl.subplot(1,4,a+1)\n",
        "    mdp.gridPlot(ax=pl.gca(), im=mdp.R[:,a].reshape((10,10)), title='a='+mdp.A[a], cmap='jet')\n",
        "pl.show()\n",
        "\n",
        "#Plot rewards\n",
        "pl.figure(figsize=(15,3))\n",
        "pl.suptitle('Rewards - clipped larger +ve values for visualizing the edges', fontsize=15)\n",
        "for a in range(4):\n",
        "    pl.subplot(1,4,a+1)\n",
        "    mdp.gridPlot(ax=pl.gca(), im=np.clip(mdp.R[:,a].reshape((10,10)), -1, -0.5), title='a='+mdp.A[a], cmap='jet')\n",
        "pl.show()\n",
        "\n",
        "#Plot rewards\n",
        "s0_x, s0_y = 3, 5\n",
        "s0 = mdp.xy2s(s0_x, s0_y)\n",
        "pl.figure(figsize=(15,3))\n",
        "pl.suptitle('Transition probabilities T(s1|s0=({},{}),a)'.format(s0_x, s0_y), fontsize=15)\n",
        "for a in range(4):\n",
        "    pl.subplot(1,4,a+1)\n",
        "    mdp.gridPlot(ax=pl.gca(), im=mdp.T[s0,a,:].reshape((10,10)), title='a='+mdp.A[a], cmap='Blues')\n",
        "pl.show()"
      ]
    },
    {
      "cell_type": "code",
      "execution_count": null,
      "metadata": {
        "colab": {
          "base_uri": "https://localhost:8080/",
          "height": 609,
          "referenced_widgets": [
            "7d511bae268342b3b8f6aed975bff1c7",
            "2fe8a3e5d4704f55980384d323ae3d57",
            "aa3dbc01ed064ac3a72f8979286fa6d6",
            "6e6cd0215da24343ab62e80eac52094c",
            "0316b3d9919c4730813d5c1f08b2df44",
            "9d02ab92cda34182b9575146ad40bc3c",
            "8ea64ed0fd724ccfb405a020f3ff9909",
            "82ea8909f98242fe8c43230419808ae5",
            "45b0179d20d6404783b9ee9ceeff9666",
            "647f49d488714ddc9149b96c91a44029",
            "c7274a84fc0f4b9b9614e1927fa75e6a",
            "3002dde103b34c65bae8124ab7dd2c9b",
            "4bbfd370e7804292a8ca4a208d9b699e"
          ]
        },
        "id": "WSh9F6O2sAv1",
        "outputId": "b0dccd0c-9c93-4565-baef-d4307705f032"
      },
      "outputs": [
        {
          "output_type": "display_data",
          "data": {
            "text/plain": [
              "interactive(children=(Text(value='4', description='s0_x'), Text(value='5', description='s0_y'), ToggleButtons(…"
            ],
            "application/vnd.jupyter.widget-view+json": {
              "version_major": 2,
              "version_minor": 0,
              "model_id": "7d511bae268342b3b8f6aed975bff1c7"
            }
          },
          "metadata": {}
        }
      ],
      "source": [
        "#An interactive plot of transition probabilities\n",
        "def f(s0_x, s0_y, action):\n",
        "    a = mdp.A.index(action)\n",
        "    s0 = mdp.xy2s(int(s0_x), int(s0_y))\n",
        "    pl.figure(figsize=(6,6))\n",
        "    title = 'Transition probabilities T(s1|s0=({},{}),a={})'.format(int(s0_x),int(s0_y),action)\n",
        "    mdp.gridPlot(ax=pl.gca(), im=mdp.T[s0,a,:].reshape((10,10)), title=title, cmap='Blues')\n",
        "    pl.show()\n",
        "\n",
        "interactive_plot = interactive(f, s0_x='4', s0_y='5', action=widgets.ToggleButtons(options=['left', 'right', 'up', 'down']))\n",
        "interactive_plot"
      ]
    },
    {
      "cell_type": "markdown",
      "metadata": {
        "id": "CRtcTdgOsAv4"
      },
      "source": [
        "### 1. Policy evaluation\n",
        "\n",
        "Computing the utility, U.\n",
        "\n",
        "$U^\\pi_k(s) = R(s, \\pi(s)) + \\gamma \\sum_{s'} T(s' \\mid s, \\pi(s))U^\\pi_{k-1}(s')$"
      ]
    },
    {
      "cell_type": "code",
      "execution_count": null,
      "metadata": {
        "colab": {
          "base_uri": "https://localhost:8080/",
          "height": 654
        },
        "id": "cT2yS--rsAv4",
        "outputId": "6dafea6b-c578-4881-f3c7-e19918bb8b41"
      },
      "outputs": [
        {
          "output_type": "display_data",
          "data": {
            "text/plain": [
              "<Figure size 1500x300 with 8 Axes>"
            ],
            "image/png": "[encoded data removed]"
          },
          "metadata": {}
        },
        {
          "output_type": "stream",
          "name": "stdout",
          "text": [
            "[[-2.9550e+00 -2.6620e+00 -2.6120e+00 -2.6080e+00 -2.6120e+00 -2.6080e+00\n",
            "  -2.6090e+00 -2.6230e+00 -2.6640e+00 -2.9550e+00]\n",
            " [-2.0280e+00 -1.7350e+00 -1.6870e+00 -1.6910e+00 -1.7330e+00 -1.6940e+00\n",
            "  -1.7040e+00 -1.7920e+00 -1.7570e+00 -2.0320e+00]\n",
            " [-1.2890e+00 -9.9700e-01 -9.5700e-01 -1.0530e+00 -1.4920e+00 -1.0750e+00\n",
            "  -1.1770e+00 -2.0440e+00 -1.2210e+00 -1.3130e+00]\n",
            " [-7.6000e-01 -4.7000e-01 -4.8600e-01 -1.0260e+00 -6.2200e+00 -1.1640e+00\n",
            "  -1.7090e+00 -1.2023e+01 -1.6960e+00 -9.0600e-01]\n",
            " [-4.5900e-01 -1.7400e-01 -1.9000e-01 -8.9700e-01 -3.9680e+00 -1.0510e+00\n",
            "  -1.7620e+00 -7.8020e+00 -1.7410e+00 -6.3000e-01]\n",
            " [-3.4700e-01 -4.9000e-02 -7.3000e-02 -5.3000e-01 -2.6260e+00 -7.2900e-01\n",
            "  -1.1660e+00 -5.2530e+00 -1.1240e+00 -5.4100e-01]\n",
            " [-3.4100e-01  6.0000e-03  2.8900e-01 -3.8900e-01 -1.2440e+00 -4.4500e-01\n",
            "  -8.7900e-01 -2.4090e+00 -9.3400e-01 -3.4500e-01]\n",
            " [-3.0900e-01  2.7700e-01  3.0000e+00  3.3200e-01 -7.4800e-01  2.2000e-02\n",
            "   2.0200e-01 -6.0000e-01  1.4700e-01 -3.2600e-01]\n",
            " [-3.1400e-01  3.5600e-01  2.0480e+00  4.1200e-01  3.6000e-02  1.1700e-01\n",
            "   1.1100e+00  1.0000e+01  1.0560e+00 -2.3000e-01]\n",
            " [-4.4000e-01  1.5600e-01  1.3180e+00  2.1100e-01 -7.3000e-02  3.2000e-02\n",
            "   1.3230e+00  7.0310e+00  1.2680e+00 -2.9800e-01]]\n"
          ]
        }
      ],
      "source": [
        "def iterativePolicyEvaluation(mdp, policy, numIterations=10):\n",
        "    U = np.zeros(len(mdp.S))\n",
        "    U_old = copy.copy(U)\n",
        "    for t in range(numIterations):\n",
        "    #type your code here\n",
        "\n",
        "      U_old = copy.copy(U)\n",
        "      for s in mdp.S:\n",
        "        a = policy\n",
        "        U[s] = mdp.R[s, a] + mdp.discount * np.sum(mdp.T[s, a, :] * U_old)\n",
        "    return U\n",
        "\n",
        "numIterations = 5\n",
        "pl.figure(figsize=(15,3))\n",
        "pl.suptitle('Utilities', fontsize=15)\n",
        "for a in range(4):\n",
        "    pl.subplot(1,4,a+1)\n",
        "    U = iterativePolicyEvaluation(mdp=mdp, policy=a, numIterations=numIterations)\n",
        "    mdp.gridPlot(ax=pl.gca(), im=U.reshape(10,10), title='a='+mdp.A[a], cmap='jet')\n",
        "pl.show()\n",
        "print(np.round(U.reshape(10,10),3))"
      ]
    },
    {
      "cell_type": "code",
      "execution_count": null,
      "metadata": {
        "colab": {
          "base_uri": "https://localhost:8080/",
          "height": 338,
          "referenced_widgets": [
            "e1b4d043e0514991b4899449cdf2b0de",
            "58ab2329bba94d049b2e73f7cbe6e90e",
            "7c3f2809e24b4182a8e52aeb274d821b",
            "b94b3a9d3eff4e89883fe4e368ccd284",
            "142f8b15fc6b4e748b95bef895b9f88e",
            "73a971ab9d994c4e90fd6b71778e4e0f",
            "396e2f8bcf3448f3b9e488e7bb480ffb",
            "e09e6f6e0ca844a4817ba4b9c122a693",
            "506f552d3f2c47ff82e0657e17c70790",
            "328baf21836c44cab3d168f1a5e6d186"
          ]
        },
        "id": "XcMijKgbsAv7",
        "outputId": "abb90251-721f-41e8-e787-21f244764fdd"
      },
      "outputs": [
        {
          "output_type": "display_data",
          "data": {
            "text/plain": [
              "interactive(children=(ToggleButtons(description='action', options=('left', 'right', 'up', 'down'), value='left…"
            ],
            "application/vnd.jupyter.widget-view+json": {
              "version_major": 2,
              "version_minor": 0,
              "model_id": "e1b4d043e0514991b4899449cdf2b0de"
            }
          },
          "metadata": {}
        }
      ],
      "source": [
        "def f(action, numIter=1):\n",
        "    U = iterativePolicyEvaluation(mdp, policy=mdp.A.index(action), numIterations=numIter)\n",
        "    pl.figure(figsize=(3,3))\n",
        "    mdp.gridPlot(ax=pl.gca(), im=U.reshape(10,10), title='Utility', cmap='jet')\n",
        "    pl.show()\n",
        "\n",
        "interactive_plot = interactive(f, action=widgets.ToggleButtons(options=['left', 'right', 'up', 'down']),\n",
        "                               numIter=widgets.IntSlider(min=0, max=20, step=1, value=0))\n",
        "interactive_plot"
      ]
    },
    {
      "cell_type": "code",
      "execution_count": null,
      "metadata": {
        "colab": {
          "base_uri": "https://localhost:8080/",
          "height": 282
        },
        "id": "-L8qvyKAsAv9",
        "outputId": "d217e399-d37a-42af-98c4-d3427937ff7c"
      },
      "outputs": [
        {
          "output_type": "display_data",
          "data": {
            "text/plain": [
              "<Figure size 300x300 with 2 Axes>"
            ],
            "image/png": "[encoded data removed]"
          },
          "metadata": {}
        }
      ],
      "source": [
        "#Value iteration\n",
        "def valueIteration(mdp, numIterations=1):\n",
        "    U = np.zeros(len(mdp.S))\n",
        "    U_old = copy.copy(U)\n",
        "    for t in range(numIterations):\n",
        "      #Type\n",
        "        U_old = copy.copy(U)\n",
        "        for s in mdp.S:\n",
        "            # Compute max over all possible actions\n",
        "            U[s] = max(\n",
        "                mdp.R[s, a] + mdp.discount * np.sum(mdp.T[s, a, :] * U_old)\n",
        "                for a in range(len(mdp.A))\n",
        "            )\n",
        "    return U\n",
        "\n",
        "def policyExtration(mdp, U):\n",
        "    policy = np.zeros(len(mdp.S))\n",
        "    #type your code here\n",
        "    for s in mdp.S:\n",
        "        # Choose action that maximizes expected utility\n",
        "        policy[s] = np.argmax([\n",
        "            mdp.R[s, a] + mdp.discount * np.sum(mdp.T[s, a, :] * U)\n",
        "            for a in range(len(mdp.A))\n",
        "        ])\n",
        "    return policy\n",
        "\n",
        "U = valueIteration(mdp, numIterations=2)\n",
        "policy = policyExtration(mdp, U=U)\n",
        "pl.figure(figsize=(3,3))\n",
        "mdp.gridPlot(ax=pl.gca(), im=U.reshape(10,10), title='Utility', cmap='jet')\n",
        "for s in range(100):\n",
        "    x, y = mdp.s2xy(s)\n",
        "    if policy[s] == 0:\n",
        "        m='\\u02C2'\n",
        "    elif policy[s] == 1:\n",
        "        m='\\u02C3'\n",
        "    elif policy[s] == 2:\n",
        "        m='\\u02C4'\n",
        "    elif policy[s] == 3:\n",
        "        m='\\u02C5'\n",
        "    pl.text(x-0.5,y-1,m,color='k',size=20)\n",
        "pl.show()"
      ]
    },
    {
      "cell_type": "code",
      "execution_count": null,
      "metadata": {
        "colab": {
          "base_uri": "https://localhost:8080/",
          "height": 299,
          "referenced_widgets": [
            "bf98bd24faf14307a8982a0699e226d6",
            "260e3993d3d248c9a2dbc54379ef6f71",
            "a51d516bf48f460c87c72292eddfe6e0",
            "e73d65a2860a41fc9e3c8b24fc14c2ec",
            "8080a45400e2473391cbfe51fced1ea5",
            "bd162a69985646a3aa1ca6ce80499c5a",
            "923a2c9f7bc3495f826bfcde2400efcd"
          ]
        },
        "id": "W7Hvi7YdsAv_",
        "outputId": "9e1ef88d-5ba4-49a8-816c-5c2ccb61e088"
      },
      "outputs": [
        {
          "output_type": "stream",
          "name": "stdout",
          "text": [
            "time= 7.65\n"
          ]
        },
        {
          "output_type": "display_data",
          "data": {
            "text/plain": [
              "<Figure size 300x300 with 2 Axes>"
            ],
            "image/png": "[encoded data removed]"
          },
          "metadata": {}
        }
      ],
      "source": [
        "def f(numIter=1):\n",
        "    start_time = timeit.default_timer()\n",
        "    U = valueIteration(mdp, numIterations=numIter)\n",
        "    policy = policyExtration(mdp, U=U)\n",
        "    elapsed = timeit.default_timer() - start_time\n",
        "    print('time=', np.round(elapsed*1000,2))\n",
        "    pl.figure(figsize=(3,3))\n",
        "    mdp.gridPlot(ax=pl.gca(), im=U.reshape(10,10), title='Utility', cmap='jet')\n",
        "    for s in range(100):\n",
        "        x, y = mdp.s2xy(s)\n",
        "        if policy[s] == 0:\n",
        "            m='\\u02C2'\n",
        "        elif policy[s] == 1:\n",
        "            m='\\u02C3'\n",
        "        elif policy[s] == 2:\n",
        "            m='\\u02C4'\n",
        "        elif policy[s] == 3:\n",
        "            m='\\u02C5'\n",
        "        pl.text(x-0.5,y-1,m,color='k',size=20)\n",
        "    pl.show()\n",
        "\n",
        "interactive_plot = interactive(f, numIter=widgets.IntSlider(min=0, max=20, step=1, value=0))\n",
        "interactive_plot"
      ]
    },
    {
      "cell_type": "markdown",
      "metadata": {
        "id": "6il1i5CesAwB"
      },
      "source": [
        "### 2. Policy iteration\n",
        "\n",
        "Policy evaluation can be used in policy iteration:\n",
        "1. Given the current policy, compute U\n",
        "2. Using U, compute a new policy"
      ]
    },
    {
      "cell_type": "code",
      "execution_count": null,
      "metadata": {
        "id": "5VzzQB0jsAwC"
      },
      "outputs": [],
      "source": [
        "def policyIteration(mdp, numIterations=1):\n",
        "    U_pi_k = np.zeros(len(mdp.S))  # initial values\n",
        "    pi_k = np.random.randint(low=0, high=len(mdp.A), size=len(mdp.S), dtype=int)  # initial policy\n",
        "    pi_kp1 = copy.copy(pi_k)\n",
        "\n",
        "    for t in range(numIterations):\n",
        "               # Policy Evaluation\n",
        "\n",
        "        U_old = copy.copy(U_pi_k)\n",
        "        # Iterative evaluation (can run a fixed number of iterations, e.g., 10)\n",
        "        for _ in range(10):\n",
        "            U_old = copy.copy(U_pi_k)\n",
        "            for s in mdp.S:\n",
        "                a = pi_k[s]\n",
        "                U_pi_k[s] = mdp.R[s, a] + mdp.discount * np.sum(mdp.T[s, a, :] * U_old)\n",
        "\n",
        "                # Policy Improvement\n",
        "                  for s in mdp.S:\n",
        "            # Choose the action that maximizes expected utility\n",
        "            pi_kp1[s] = np.argmax([\n",
        "                mdp.R[s, a] + mdp.discount * np.sum(mdp.T[s, a, :] * U_pi_k)\n",
        "                for a in range(len(mdp.A))\n",
        "            ])\n",
        "\n",
        "        # Update policy\n",
        "        pi_k = copy.copy(pi_kp1)\n",
        "\n",
        "    return U_pi_k, pi_kp1\n",
        "\n",
        "# Run policy iteration\n",
        "U_pi_k, pi_kp1 = policyIteration(mdp, numIterations=2)\n"
      ]
    },
    {
      "cell_type": "code",
      "execution_count": null,
      "metadata": {
        "colab": {
          "base_uri": "https://localhost:8080/",
          "height": 331,
          "referenced_widgets": [
            "1614e953468d4ef69075e378620b6168",
            "ee944ce8db2d40eeaff36c0fb1b1b43c",
            "958cc93ee4f1488695de8dc28562ebc3",
            "be30dc8787414270a6a89ac632447be3",
            "592940b7680e49e0b5fbefaee6644438",
            "7caa82e08782491ab791dc8f821babe0",
            "d4fdb8c8399b45908fcd752e91507ca1"
          ]
        },
        "id": "lSHVZ0CwsAwE",
        "outputId": "00303d2b-855a-434d-b862-983f90db2430"
      },
      "outputs": [
        {
          "output_type": "display_data",
          "data": {
            "text/plain": [
              "interactive(children=(IntSlider(value=0, description='numIter', max=20), Output()), _dom_classes=('widget-inte…"
            ],
            "application/vnd.jupyter.widget-view+json": {
              "version_major": 2,
              "version_minor": 0,
              "model_id": "1614e953468d4ef69075e378620b6168"
            }
          },
          "metadata": {}
        }
      ],
      "source": [
        "def f(numIter=1):\n",
        "    start_time = timeit.default_timer()\n",
        "    # code you want to evaluate\n",
        "    value, policy = policyIteration(mdp, numIterations=numIter)\n",
        "    elapsed = timeit.default_timer() - start_time\n",
        "    print('time=', np.round(elapsed*1000,2))\n",
        "    pl.figure(figsize=(3,3))\n",
        "    mdp.gridPlot(ax=pl.gca(), im=value.reshape(10,10), title='Utility', cmap='jet')\n",
        "    for s in range(100):\n",
        "        x, y = mdp.s2xy(s)\n",
        "        if policy[s] == 0:\n",
        "            m='\\u02C2'\n",
        "        elif policy[s] == 1:\n",
        "            m='\\u02C3'\n",
        "        elif policy[s] == 2:\n",
        "            m='\\u02C4'\n",
        "        elif policy[s] == 3:\n",
        "            m='\\u02C5'\n",
        "        pl.text(x-0.5,y-1,m,color='k',size=20)\n",
        "    pl.show()\n",
        "\n",
        "interactive_plot = interactive(f, numIter=widgets.IntSlider(min=0, max=20, step=1, value=0))\n",
        "interactive_plot"
      ]
    }
  ],
  "metadata": {
    "@webio": {
      "lastCommId": "21E8675012EB469B8DD225E5191E1594",
      "lastKernelId": "ec90fbfa-47cf-4656-a1ce-4ca4670e6701"
    },
    "colab": {
      "provenance": []
    },
    "kernelspec": {
      "display_name": "Python 3",
      "language": "python",
      "name": "python3"
    },
    "language_info": {
      "codemirror_mode": {
        "name": "ipython",
        "version": 3
      },
      "file_extension": ".py",
      "mimetype": "text/x-python",
      "name": "python",
      "nbconvert_exporter": "python",
      "pygments_lexer": "ipython3",
      "version": "3.8.8"
    },
    "widgets": {
      "application/vnd.jupyter.widget-state+json": {
        "7d511bae268342b3b8f6aed975bff1c7": {
          "model_module": "@jupyter-widgets/controls",
          "model_name": "VBoxModel",
          "model_module_version": "1.5.0",
          "state": {
            "_dom_classes": [
              "widget-interact"
            ],
            "_model_module": "@jupyter-widgets/controls",
            "_model_module_version": "1.5.0",
            "_model_name": "VBoxModel",
            "_view_count": null,
            "_view_module": "@jupyter-widgets/controls",
            "_view_module_version": "1.5.0",
            "_view_name": "VBoxView",
            "box_style": "",
            "children": [
              "IPY_MODEL_2fe8a3e5d4704f55980384d323ae3d57",
              "IPY_MODEL_aa3dbc01ed064ac3a72f8979286fa6d6",
              "IPY_MODEL_6e6cd0215da24343ab62e80eac52094c",
              "IPY_MODEL_0316b3d9919c4730813d5c1f08b2df44"
            ],
            "layout": "IPY_MODEL_9d02ab92cda34182b9575146ad40bc3c"
          }
        },
        "2fe8a3e5d4704f55980384d323ae3d57": {
          "model_module": "@jupyter-widgets/controls",
          "model_name": "TextModel",
          "model_module_version": "1.5.0",
          "state": {
            "_dom_classes": [],
            "_model_module": "@jupyter-widgets/controls",
            "_model_module_version": "1.5.0",
            "_model_name": "TextModel",
            "_view_count": null,
            "_view_module": "@jupyter-widgets/controls",
            "_view_module_version": "1.5.0",
            "_view_name": "TextView",
            "continuous_update": true,
            "description": "s0_x",
            "description_tooltip": null,
            "disabled": false,
            "layout": "IPY_MODEL_8ea64ed0fd724ccfb405a020f3ff9909",
            "placeholder": "​",
            "style": "IPY_MODEL_82ea8909f98242fe8c43230419808ae5",
            "value": "0"
          }
        },
        "aa3dbc01ed064ac3a72f8979286fa6d6": {
          "model_module": "@jupyter-widgets/controls",
          "model_name": "TextModel",
          "model_module_version": "1.5.0",
          "state": {
            "_dom_classes": [],
            "_model_module": "@jupyter-widgets/controls",
            "_model_module_version": "1.5.0",
            "_model_name": "TextModel",
            "_view_count": null,
            "_view_module": "@jupyter-widgets/controls",
            "_view_module_version": "1.5.0",
            "_view_name": "TextView",
            "continuous_update": true,
            "description": "s0_y",
            "description_tooltip": null,
            "disabled": false,
            "layout": "IPY_MODEL_45b0179d20d6404783b9ee9ceeff9666",
            "placeholder": "​",
            "style": "IPY_MODEL_647f49d488714ddc9149b96c91a44029",
            "value": "9"
          }
        },
        "6e6cd0215da24343ab62e80eac52094c": {
          "model_module": "@jupyter-widgets/controls",
          "model_name": "ToggleButtonsModel",
          "model_module_version": "1.5.0",
          "state": {
            "_dom_classes": [],
            "_model_module": "@jupyter-widgets/controls",
            "_model_module_version": "1.5.0",
            "_model_name": "ToggleButtonsModel",
            "_options_labels": [
              "left",
              "right",
              "up",
              "down"
            ],
            "_view_count": null,
            "_view_module": "@jupyter-widgets/controls",
            "_view_module_version": "1.5.0",
            "_view_name": "ToggleButtonsView",
            "button_style": "",
            "description": "action",
            "description_tooltip": null,
            "disabled": false,
            "icons": [],
            "index": 3,
            "layout": "IPY_MODEL_c7274a84fc0f4b9b9614e1927fa75e6a",
            "style": "IPY_MODEL_3002dde103b34c65bae8124ab7dd2c9b",
            "tooltips": []
          }
        },
        "0316b3d9919c4730813d5c1f08b2df44": {
          "model_module": "@jupyter-widgets/output",
          "model_name": "OutputModel",
          "model_module_version": "1.0.0",
          "state": {
            "_dom_classes": [],
            "_model_module": "@jupyter-widgets/output",
            "_model_module_version": "1.0.0",
            "_model_name": "OutputModel",
            "_view_count": null,
            "_view_module": "@jupyter-widgets/output",
            "_view_module_version": "1.0.0",
            "_view_name": "OutputView",
            "layout": "IPY_MODEL_4bbfd370e7804292a8ca4a208d9b699e",
            "msg_id": "",
            "outputs": [
              {
                "output_type": "display_data",
                "data": {
                  "text/plain": "<Figure size 600x600 with 2 Axes>",
                  "image/png": "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\n"
                },
                "metadata": {}
              }
            ]
          }
        },
        "9d02ab92cda34182b9575146ad40bc3c": {
          "model_module": "@jupyter-widgets/base",
          "model_name": "LayoutModel",
          "model_module_version": "1.2.0",
          "state": {
            "_model_module": "@jupyter-widgets/base",
            "_model_module_version": "1.2.0",
            "_model_name": "LayoutModel",
            "_view_count": null,
            "_view_module": "@jupyter-widgets/base",
            "_view_module_version": "1.2.0",
            "_view_name": "LayoutView",
            "align_content": null,
            "align_items": null,
            "align_self": null,
            "border": null,
            "bottom": null,
            "display": null,
            "flex": null,
            "flex_flow": null,
            "grid_area": null,
            "grid_auto_columns": null,
            "grid_auto_flow": null,
            "grid_auto_rows": null,
            "grid_column": null,
            "grid_gap": null,
            "grid_row": null,
            "grid_template_areas": null,
            "grid_template_columns": null,
            "grid_template_rows": null,
            "height": null,
            "justify_content": null,
            "justify_items": null,
            "left": null,
            "margin": null,
            "max_height": null,
            "max_width": null,
            "min_height": null,
            "min_width": null,
            "object_fit": null,
            "object_position": null,
            "order": null,
            "overflow": null,
            "overflow_x": null,
            "overflow_y": null,
            "padding": null,
            "right": null,
            "top": null,
            "visibility": null,
            "width": null
          }
        },
        "8ea64ed0fd724ccfb405a020f3ff9909": {
          "model_module": "@jupyter-widgets/base",
          "model_name": "LayoutModel",
          "model_module_version": "1.2.0",
          "state": {
            "_model_module": "@jupyter-widgets/base",
            "_model_module_version": "1.2.0",
            "_model_name": "LayoutModel",
            "_view_count": null,
            "_view_module": "@jupyter-widgets/base",
            "_view_module_version": "1.2.0",
            "_view_name": "LayoutView",
            "align_content": null,
            "align_items": null,
            "align_self": null,
            "border": null,
            "bottom": null,
            "display": null,
            "flex": null,
            "flex_flow": null,
            "grid_area": null,
            "grid_auto_columns": null,
            "grid_auto_flow": null,
            "grid_auto_rows": null,
            "grid_column": null,
            "grid_gap": null,
            "grid_row": null,
            "grid_template_areas": null,
            "grid_template_columns": null,
            "grid_template_rows": null,
            "height": null,
            "justify_content": null,
            "justify_items": null,
            "left": null,
            "margin": null,
            "max_height": null,
            "max_width": null,
            "min_height": null,
            "min_width": null,
            "object_fit": null,
            "object_position": null,
            "order": null,
            "overflow": null,
            "overflow_x": null,
            "overflow_y": null,
            "padding": null,
            "right": null,
            "top": null,
            "visibility": null,
            "width": null
          }
        },
        "82ea8909f98242fe8c43230419808ae5": {
          "model_module": "@jupyter-widgets/controls",
          "model_name": "DescriptionStyleModel",
          "model_module_version": "1.5.0",
          "state": {
            "_model_module": "@jupyter-widgets/controls",
            "_model_module_version": "1.5.0",
            "_model_name": "DescriptionStyleModel",
            "_view_count": null,
            "_view_module": "@jupyter-widgets/base",
            "_view_module_version": "1.2.0",
            "_view_name": "StyleView",
            "description_width": ""
          }
        },
        "45b0179d20d6404783b9ee9ceeff9666": {
          "model_module": "@jupyter-widgets/base",
          "model_name": "LayoutModel",
          "model_module_version": "1.2.0",
          "state": {
            "_model_module": "@jupyter-widgets/base",
            "_model_module_version": "1.2.0",
            "_model_name": "LayoutModel",
            "_view_count": null,
            "_view_module": "@jupyter-widgets/base",
            "_view_module_version": "1.2.0",
            "_view_name": "LayoutView",
            "align_content": null,
            "align_items": null,
            "align_self": null,
            "border": null,
            "bottom": null,
            "display": null,
            "flex": null,
            "flex_flow": null,
            "grid_area": null,
            "grid_auto_columns": null,
            "grid_auto_flow": null,
            "grid_auto_rows": null,
            "grid_column": null,
            "grid_gap": null,
            "grid_row": null,
            "grid_template_areas": null,
            "grid_template_columns": null,
            "grid_template_rows": null,
            "height": null,
            "justify_content": null,
            "justify_items": null,
            "left": null,
            "margin": null,
            "max_height": null,
            "max_width": null,
            "min_height": null,
            "min_width": null,
            "object_fit": null,
            "object_position": null,
            "order": null,
            "overflow": null,
            "overflow_x": null,
            "overflow_y": null,
            "padding": null,
            "right": null,
            "top": null,
            "visibility": null,
            "width": null
          }
        },
        "647f49d488714ddc9149b96c91a44029": {
          "model_module": "@jupyter-widgets/controls",
          "model_name": "DescriptionStyleModel",
          "model_module_version": "1.5.0",
          "state": {
            "_model_module": "@jupyter-widgets/controls",
            "_model_module_version": "1.5.0",
            "_model_name": "DescriptionStyleModel",
            "_view_count": null,
            "_view_module": "@jupyter-widgets/base",
            "_view_module_version": "1.2.0",
            "_view_name": "StyleView",
            "description_width": ""
          }
        },
        "c7274a84fc0f4b9b9614e1927fa75e6a": {
          "model_module": "@jupyter-widgets/base",
          "model_name": "LayoutModel",
          "model_module_version": "1.2.0",
          "state": {
            "_model_module": "@jupyter-widgets/base",
            "_model_module_version": "1.2.0",
            "_model_name": "LayoutModel",
            "_view_count": null,
            "_view_module": "@jupyter-widgets/base",
            "_view_module_version": "1.2.0",
            "_view_name": "LayoutView",
            "align_content": null,
            "align_items": null,
            "align_self": null,
            "border": null,
            "bottom": null,
            "display": null,
            "flex": null,
            "flex_flow": null,
            "grid_area": null,
            "grid_auto_columns": null,
            "grid_auto_flow": null,
            "grid_auto_rows": null,
            "grid_column": null,
            "grid_gap": null,
            "grid_row": null,
            "grid_template_areas": null,
            "grid_template_columns": null,
            "grid_template_rows": null,
            "height": null,
            "justify_content": null,
            "justify_items": null,
            "left": null,
            "margin": null,
            "max_height": null,
            "max_width": null,
            "min_height": null,
            "min_width": null,
            "object_fit": null,
            "object_position": null,
            "order": null,
            "overflow": null,
            "overflow_x": null,
            "overflow_y": null,
            "padding": null,
            "right": null,
            "top": null,
            "visibility": null,
            "width": null
          }
        },
        "3002dde103b34c65bae8124ab7dd2c9b": {
          "model_module": "@jupyter-widgets/controls",
          "model_name": "ToggleButtonsStyleModel",
          "model_module_version": "1.5.0",
          "state": {
            "_model_module": "@jupyter-widgets/controls",
            "_model_module_version": "1.5.0",
            "_model_name": "ToggleButtonsStyleModel",
            "_view_count": null,
            "_view_module": "@jupyter-widgets/base",
            "_view_module_version": "1.2.0",
            "_view_name": "StyleView",
            "button_width": "",
            "description_width": "",
            "font_weight": ""
          }
        },
        "4bbfd370e7804292a8ca4a208d9b699e": {
          "model_module": "@jupyter-widgets/base",
          "model_name": "LayoutModel",
          "model_module_version": "1.2.0",
          "state": {
            "_model_module": "@jupyter-widgets/base",
            "_model_module_version": "1.2.0",
            "_model_name": "LayoutModel",
            "_view_count": null,
            "_view_module": "@jupyter-widgets/base",
            "_view_module_version": "1.2.0",
            "_view_name": "LayoutView",
            "align_content": null,
            "align_items": null,
            "align_self": null,
            "border": null,
            "bottom": null,
            "display": null,
            "flex": null,
            "flex_flow": null,
            "grid_area": null,
            "grid_auto_columns": null,
            "grid_auto_flow": null,
            "grid_auto_rows": null,
            "grid_column": null,
            "grid_gap": null,
            "grid_row": null,
            "grid_template_areas": null,
            "grid_template_columns": null,
            "grid_template_rows": null,
            "height": null,
            "justify_content": null,
            "justify_items": null,
            "left": null,
            "margin": null,
            "max_height": null,
            "max_width": null,
            "min_height": null,
            "min_width": null,
            "object_fit": null,
            "object_position": null,
            "order": null,
            "overflow": null,
            "overflow_x": null,
            "overflow_y": null,
            "padding": null,
            "right": null,
            "top": null,
            "visibility": null,
            "width": null
          }
        },
        "e1b4d043e0514991b4899449cdf2b0de": {
          "model_module": "@jupyter-widgets/controls",
          "model_name": "VBoxModel",
          "model_module_version": "1.5.0",
          "state": {
            "_dom_classes": [
              "widget-interact"
            ],
            "_model_module": "@jupyter-widgets/controls",
            "_model_module_version": "1.5.0",
            "_model_name": "VBoxModel",
            "_view_count": null,
            "_view_module": "@jupyter-widgets/controls",
            "_view_module_version": "1.5.0",
            "_view_name": "VBoxView",
            "box_style": "",
            "children": [
              "IPY_MODEL_58ab2329bba94d049b2e73f7cbe6e90e",
              "IPY_MODEL_7c3f2809e24b4182a8e52aeb274d821b",
              "IPY_MODEL_b94b3a9d3eff4e89883fe4e368ccd284"
            ],
            "layout": "IPY_MODEL_142f8b15fc6b4e748b95bef895b9f88e"
          }
        },
        "58ab2329bba94d049b2e73f7cbe6e90e": {
          "model_module": "@jupyter-widgets/controls",
          "model_name": "ToggleButtonsModel",
          "model_module_version": "1.5.0",
          "state": {
            "_dom_classes": [],
            "_model_module": "@jupyter-widgets/controls",
            "_model_module_version": "1.5.0",
            "_model_name": "ToggleButtonsModel",
            "_options_labels": [
              "left",
              "right",
              "up",
              "down"
            ],
            "_view_count": null,
            "_view_module": "@jupyter-widgets/controls",
            "_view_module_version": "1.5.0",
            "_view_name": "ToggleButtonsView",
            "button_style": "",
            "description": "action",
            "description_tooltip": null,
            "disabled": false,
            "icons": [],
            "index": 3,
            "layout": "IPY_MODEL_73a971ab9d994c4e90fd6b71778e4e0f",
            "style": "IPY_MODEL_396e2f8bcf3448f3b9e488e7bb480ffb",
            "tooltips": []
          }
        },
        "7c3f2809e24b4182a8e52aeb274d821b": {
          "model_module": "@jupyter-widgets/controls",
          "model_name": "IntSliderModel",
          "model_module_version": "1.5.0",
          "state": {
            "_dom_classes": [],
            "_model_module": "@jupyter-widgets/controls",
            "_model_module_version": "1.5.0",
            "_model_name": "IntSliderModel",
            "_view_count": null,
            "_view_module": "@jupyter-widgets/controls",
            "_view_module_version": "1.5.0",
            "_view_name": "IntSliderView",
            "continuous_update": true,
            "description": "numIter",
            "description_tooltip": null,
            "disabled": false,
            "layout": "IPY_MODEL_e09e6f6e0ca844a4817ba4b9c122a693",
            "max": 20,
            "min": 0,
            "orientation": "horizontal",
            "readout": true,
            "readout_format": "d",
            "step": 1,
            "style": "IPY_MODEL_506f552d3f2c47ff82e0657e17c70790",
            "value": 10
          }
        },
        "b94b3a9d3eff4e89883fe4e368ccd284": {
          "model_module": "@jupyter-widgets/output",
          "model_name": "OutputModel",
          "model_module_version": "1.0.0",
          "state": {
            "_dom_classes": [],
            "_model_module": "@jupyter-widgets/output",
            "_model_module_version": "1.0.0",
            "_model_name": "OutputModel",
            "_view_count": null,
            "_view_module": "@jupyter-widgets/output",
            "_view_module_version": "1.0.0",
            "_view_name": "OutputView",
            "layout": "IPY_MODEL_328baf21836c44cab3d168f1a5e6d186",
            "msg_id": "",
            "outputs": [
              {
                "output_type": "display_data",
                "data": {
                  "text/plain": "<Figure size 300x300 with 2 Axes>",
                  "image/png": "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\n"
                },
                "metadata": {}
              }
            ]
          }
        },
        "142f8b15fc6b4e748b95bef895b9f88e": {
          "model_module": "@jupyter-widgets/base",
          "model_name": "LayoutModel",
          "model_module_version": "1.2.0",
          "state": {
            "_model_module": "@jupyter-widgets/base",
            "_model_module_version": "1.2.0",
            "_model_name": "LayoutModel",
            "_view_count": null,
            "_view_module": "@jupyter-widgets/base",
            "_view_module_version": "1.2.0",
            "_view_name": "LayoutView",
            "align_content": null,
            "align_items": null,
            "align_self": null,
            "border": null,
            "bottom": null,
            "display": null,
            "flex": null,
            "flex_flow": null,
            "grid_area": null,
            "grid_auto_columns": null,
            "grid_auto_flow": null,
            "grid_auto_rows": null,
            "grid_column": null,
            "grid_gap": null,
            "grid_row": null,
            "grid_template_areas": null,
            "grid_template_columns": null,
            "grid_template_rows": null,
            "height": null,
            "justify_content": null,
            "justify_items": null,
            "left": null,
            "margin": null,
            "max_height": null,
            "max_width": null,
            "min_height": null,
            "min_width": null,
            "object_fit": null,
            "object_position": null,
            "order": null,
            "overflow": null,
            "overflow_x": null,
            "overflow_y": null,
            "padding": null,
            "right": null,
            "top": null,
            "visibility": null,
            "width": null
          }
        },
        "73a971ab9d994c4e90fd6b71778e4e0f": {
          "model_module": "@jupyter-widgets/base",
          "model_name": "LayoutModel",
          "model_module_version": "1.2.0",
          "state": {
            "_model_module": "@jupyter-widgets/base",
            "_model_module_version": "1.2.0",
            "_model_name": "LayoutModel",
            "_view_count": null,
            "_view_module": "@jupyter-widgets/base",
            "_view_module_version": "1.2.0",
            "_view_name": "LayoutView",
            "align_content": null,
            "align_items": null,
            "align_self": null,
            "border": null,
            "bottom": null,
            "display": null,
            "flex": null,
            "flex_flow": null,
            "grid_area": null,
            "grid_auto_columns": null,
            "grid_auto_flow": null,
            "grid_auto_rows": null,
            "grid_column": null,
            "grid_gap": null,
            "grid_row": null,
            "grid_template_areas": null,
            "grid_template_columns": null,
            "grid_template_rows": null,
            "height": null,
            "justify_content": null,
            "justify_items": null,
            "left": null,
            "margin": null,
            "max_height": null,
            "max_width": null,
            "min_height": null,
            "min_width": null,
            "object_fit": null,
            "object_position": null,
            "order": null,
            "overflow": null,
            "overflow_x": null,
            "overflow_y": null,
            "padding": null,
            "right": null,
            "top": null,
            "visibility": null,
            "width": null
          }
        },
        "396e2f8bcf3448f3b9e488e7bb480ffb": {
          "model_module": "@jupyter-widgets/controls",
          "model_name": "ToggleButtonsStyleModel",
          "model_module_version": "1.5.0",
          "state": {
            "_model_module": "@jupyter-widgets/controls",
            "_model_module_version": "1.5.0",
            "_model_name": "ToggleButtonsStyleModel",
            "_view_count": null,
            "_view_module": "@jupyter-widgets/base",
            "_view_module_version": "1.2.0",
            "_view_name": "StyleView",
            "button_width": "",
            "description_width": "",
            "font_weight": ""
          }
        },
        "e09e6f6e0ca844a4817ba4b9c122a693": {
          "model_module": "@jupyter-widgets/base",
          "model_name": "LayoutModel",
          "model_module_version": "1.2.0",
          "state": {
            "_model_module": "@jupyter-widgets/base",
            "_model_module_version": "1.2.0",
            "_model_name": "LayoutModel",
            "_view_count": null,
            "_view_module": "@jupyter-widgets/base",
            "_view_module_version": "1.2.0",
            "_view_name": "LayoutView",
            "align_content": null,
            "align_items": null,
            "align_self": null,
            "border": null,
            "bottom": null,
            "display": null,
            "flex": null,
            "flex_flow": null,
            "grid_area": null,
            "grid_auto_columns": null,
            "grid_auto_flow": null,
            "grid_auto_rows": null,
            "grid_column": null,
            "grid_gap": null,
            "grid_row": null,
            "grid_template_areas": null,
            "grid_template_columns": null,
            "grid_template_rows": null,
            "height": null,
            "justify_content": null,
            "justify_items": null,
            "left": null,
            "margin": null,
            "max_height": null,
            "max_width": null,
            "min_height": null,
            "min_width": null,
            "object_fit": null,
            "object_position": null,
            "order": null,
            "overflow": null,
            "overflow_x": null,
            "overflow_y": null,
            "padding": null,
            "right": null,
            "top": null,
            "visibility": null,
            "width": null
          }
        },
        "506f552d3f2c47ff82e0657e17c70790": {
          "model_module": "@jupyter-widgets/controls",
          "model_name": "SliderStyleModel",
          "model_module_version": "1.5.0",
          "state": {
            "_model_module": "@jupyter-widgets/controls",
            "_model_module_version": "1.5.0",
            "_model_name": "SliderStyleModel",
            "_view_count": null,
            "_view_module": "@jupyter-widgets/base",
            "_view_module_version": "1.2.0",
            "_view_name": "StyleView",
            "description_width": "",
            "handle_color": null
          }
        },
        "328baf21836c44cab3d168f1a5e6d186": {
          "model_module": "@jupyter-widgets/base",
          "model_name": "LayoutModel",
          "model_module_version": "1.2.0",
          "state": {
            "_model_module": "@jupyter-widgets/base",
            "_model_module_version": "1.2.0",
            "_model_name": "LayoutModel",
            "_view_count": null,
            "_view_module": "@jupyter-widgets/base",
            "_view_module_version": "1.2.0",
            "_view_name": "LayoutView",
            "align_content": null,
            "align_items": null,
            "align_self": null,
            "border": null,
            "bottom": null,
            "display": null,
            "flex": null,
            "flex_flow": null,
            "grid_area": null,
            "grid_auto_columns": null,
            "grid_auto_flow": null,
            "grid_auto_rows": null,
            "grid_column": null,
            "grid_gap": null,
            "grid_row": null,
            "grid_template_areas": null,
            "grid_template_columns": null,
            "grid_template_rows": null,
            "height": null,
            "justify_content": null,
            "justify_items": null,
            "left": null,
            "margin": null,
            "max_height": null,
            "max_width": null,
            "min_height": null,
            "min_width": null,
            "object_fit": null,
            "object_position": null,
            "order": null,
            "overflow": null,
            "overflow_x": null,
            "overflow_y": null,
            "padding": null,
            "right": null,
            "top": null,
            "visibility": null,
            "width": null
          }
        },
        "bf98bd24faf14307a8982a0699e226d6": {
          "model_module": "@jupyter-widgets/controls",
          "model_name": "VBoxModel",
          "model_module_version": "1.5.0",
          "state": {
            "_dom_classes": [
              "widget-interact"
            ],
            "_model_module": "@jupyter-widgets/controls",
            "_model_module_version": "1.5.0",
            "_model_name": "VBoxModel",
            "_view_count": null,
            "_view_module": "@jupyter-widgets/controls",
            "_view_module_version": "1.5.0",
            "_view_name": "VBoxView",
            "box_style": "",
            "children": [
              "IPY_MODEL_260e3993d3d248c9a2dbc54379ef6f71",
              "IPY_MODEL_a51d516bf48f460c87c72292eddfe6e0"
            ],
            "layout": "IPY_MODEL_e73d65a2860a41fc9e3c8b24fc14c2ec"
          }
        },
        "260e3993d3d248c9a2dbc54379ef6f71": {
          "model_module": "@jupyter-widgets/controls",
          "model_name": "IntSliderModel",
          "model_module_version": "1.5.0",
          "state": {
            "_dom_classes": [],
            "_model_module": "@jupyter-widgets/controls",
            "_model_module_version": "1.5.0",
            "_model_name": "IntSliderModel",
            "_view_count": null,
            "_view_module": "@jupyter-widgets/controls",
            "_view_module_version": "1.5.0",
            "_view_name": "IntSliderView",
            "continuous_update": true,
            "description": "numIter",
            "description_tooltip": null,
            "disabled": false,
            "layout": "IPY_MODEL_8080a45400e2473391cbfe51fced1ea5",
            "max": 20,
            "min": 0,
            "orientation": "horizontal",
            "readout": true,
            "readout_format": "d",
            "step": 1,
            "style": "IPY_MODEL_bd162a69985646a3aa1ca6ce80499c5a",
            "value": 1
          }
        },
        "a51d516bf48f460c87c72292eddfe6e0": {
          "model_module": "@jupyter-widgets/output",
          "model_name": "OutputModel",
          "model_module_version": "1.0.0",
          "state": {
            "_dom_classes": [],
            "_model_module": "@jupyter-widgets/output",
            "_model_module_version": "1.0.0",
            "_model_name": "OutputModel",
            "_view_count": null,
            "_view_module": "@jupyter-widgets/output",
            "_view_module_version": "1.0.0",
            "_view_name": "OutputView",
            "layout": "IPY_MODEL_923a2c9f7bc3495f826bfcde2400efcd",
            "msg_id": "",
            "outputs": [
              {
                "output_type": "error",
                "ename": "NameError",
                "evalue": "name 'valueIteration' is not defined",
                "traceback": [
                  "\u001b[0;31m---------------------------------------------------------------------------\u001b[0m",
                  "\u001b[0;31mNameError\u001b[0m                                 Traceback (most recent call last)",
                  "\u001b[0;32m/usr/local/lib/python3.12/dist-packages/ipywidgets/widgets/interaction.py\u001b[0m in \u001b[0;36mupdate\u001b[0;34m(self, *args)\u001b[0m\n\u001b[1;32m    255\u001b[0m                     \u001b[0mvalue\u001b[0m \u001b[0;34m=\u001b[0m \u001b[0mwidget\u001b[0m\u001b[0;34m.\u001b[0m\u001b[0mget_interact_value\u001b[0m\u001b[0;34m(\u001b[0m\u001b[0;34m)\u001b[0m\u001b[0;34m\u001b[0m\u001b[0;34m\u001b[0m\u001b[0m\n\u001b[1;32m    256\u001b[0m                     \u001b[0mself\u001b[0m\u001b[0;34m.\u001b[0m\u001b[0mkwargs\u001b[0m\u001b[0;34m[\u001b[0m\u001b[0mwidget\u001b[0m\u001b[0;34m.\u001b[0m\u001b[0m_kwarg\u001b[0m\u001b[0;34m]\u001b[0m \u001b[0;34m=\u001b[0m \u001b[0mvalue\u001b[0m\u001b[0;34m\u001b[0m\u001b[0;34m\u001b[0m\u001b[0m\n\u001b[0;32m--> 257\u001b[0;31m                 \u001b[0mself\u001b[0m\u001b[0;34m.\u001b[0m\u001b[0mresult\u001b[0m \u001b[0;34m=\u001b[0m \u001b[0mself\u001b[0m\u001b[0;34m.\u001b[0m\u001b[0mf\u001b[0m\u001b[0;34m(\u001b[0m\u001b[0;34m**\u001b[0m\u001b[0mself\u001b[0m\u001b[0;34m.\u001b[0m\u001b[0mkwargs\u001b[0m\u001b[0;34m)\u001b[0m\u001b[0;34m\u001b[0m\u001b[0;34m\u001b[0m\u001b[0m\n\u001b[0m\u001b[1;32m    258\u001b[0m                 \u001b[0mshow_inline_matplotlib_plots\u001b[0m\u001b[0;34m(\u001b[0m\u001b[0;34m)\u001b[0m\u001b[0;34m\u001b[0m\u001b[0;34m\u001b[0m\u001b[0m\n\u001b[1;32m    259\u001b[0m                 \u001b[0;32mif\u001b[0m \u001b[0mself\u001b[0m\u001b[0;34m.\u001b[0m\u001b[0mauto_display\u001b[0m \u001b[0;32mand\u001b[0m \u001b[0mself\u001b[0m\u001b[0;34m.\u001b[0m\u001b[0mresult\u001b[0m \u001b[0;32mis\u001b[0m \u001b[0;32mnot\u001b[0m \u001b[0;32mNone\u001b[0m\u001b[0;34m:\u001b[0m\u001b[0;34m\u001b[0m\u001b[0;34m\u001b[0m\u001b[0m\n",
                  "\u001b[0;32m/tmp/ipython-input-1805850945.py\u001b[0m in \u001b[0;36mf\u001b[0;34m(numIter)\u001b[0m\n\u001b[1;32m      1\u001b[0m \u001b[0;32mdef\u001b[0m \u001b[0mf\u001b[0m\u001b[0;34m(\u001b[0m\u001b[0mnumIter\u001b[0m\u001b[0;34m=\u001b[0m\u001b[0;36m1\u001b[0m\u001b[0;34m)\u001b[0m\u001b[0;34m:\u001b[0m\u001b[0;34m\u001b[0m\u001b[0;34m\u001b[0m\u001b[0m\n\u001b[1;32m      2\u001b[0m     \u001b[0mstart_time\u001b[0m \u001b[0;34m=\u001b[0m \u001b[0mtimeit\u001b[0m\u001b[0;34m.\u001b[0m\u001b[0mdefault_timer\u001b[0m\u001b[0;34m(\u001b[0m\u001b[0;34m)\u001b[0m\u001b[0;34m\u001b[0m\u001b[0;34m\u001b[0m\u001b[0m\n\u001b[0;32m----> 3\u001b[0;31m     \u001b[0mU\u001b[0m \u001b[0;34m=\u001b[0m \u001b[0mvalueIteration\u001b[0m\u001b[0;34m(\u001b[0m\u001b[0mmdp\u001b[0m\u001b[0;34m,\u001b[0m \u001b[0mnumIterations\u001b[0m\u001b[0;34m=\u001b[0m\u001b[0mnumIter\u001b[0m\u001b[0;34m)\u001b[0m\u001b[0;34m\u001b[0m\u001b[0;34m\u001b[0m\u001b[0m\n\u001b[0m\u001b[1;32m      4\u001b[0m     \u001b[0mpolicy\u001b[0m \u001b[0;34m=\u001b[0m \u001b[0mpolicyExtration\u001b[0m\u001b[0;34m(\u001b[0m\u001b[0mmdp\u001b[0m\u001b[0;34m,\u001b[0m \u001b[0mU\u001b[0m\u001b[0;34m=\u001b[0m\u001b[0mU\u001b[0m\u001b[0;34m)\u001b[0m\u001b[0;34m\u001b[0m\u001b[0;34m\u001b[0m\u001b[0m\n\u001b[1;32m      5\u001b[0m     \u001b[0melapsed\u001b[0m \u001b[0;34m=\u001b[0m \u001b[0mtimeit\u001b[0m\u001b[0;34m.\u001b[0m\u001b[0mdefault_timer\u001b[0m\u001b[0;34m(\u001b[0m\u001b[0;34m)\u001b[0m \u001b[0;34m-\u001b[0m \u001b[0mstart_time\u001b[0m\u001b[0;34m\u001b[0m\u001b[0;34m\u001b[0m\u001b[0m\n",
                  "\u001b[0;31mNameError\u001b[0m: name 'valueIteration' is not defined"
                ]
              }
            ]
          }
        },
        "e73d65a2860a41fc9e3c8b24fc14c2ec": {
          "model_module": "@jupyter-widgets/base",
          "model_name": "LayoutModel",
          "model_module_version": "1.2.0",
          "state": {
            "_model_module": "@jupyter-widgets/base",
            "_model_module_version": "1.2.0",
            "_model_name": "LayoutModel",
            "_view_count": null,
            "_view_module": "@jupyter-widgets/base",
            "_view_module_version": "1.2.0",
            "_view_name": "LayoutView",
            "align_content": null,
            "align_items": null,
            "align_self": null,
            "border": null,
            "bottom": null,
            "display": null,
            "flex": null,
            "flex_flow": null,
            "grid_area": null,
            "grid_auto_columns": null,
            "grid_auto_flow": null,
            "grid_auto_rows": null,
            "grid_column": null,
            "grid_gap": null,
            "grid_row": null,
            "grid_template_areas": null,
            "grid_template_columns": null,
            "grid_template_rows": null,
            "height": null,
            "justify_content": null,
            "justify_items": null,
            "left": null,
            "margin": null,
            "max_height": null,
            "max_width": null,
            "min_height": null,
            "min_width": null,
            "object_fit": null,
            "object_position": null,
            "order": null,
            "overflow": null,
            "overflow_x": null,
            "overflow_y": null,
            "padding": null,
            "right": null,
            "top": null,
            "visibility": null,
            "width": null
          }
        },
        "8080a45400e2473391cbfe51fced1ea5": {
          "model_module": "@jupyter-widgets/base",
          "model_name": "LayoutModel",
          "model_module_version": "1.2.0",
          "state": {
            "_model_module": "@jupyter-widgets/base",
            "_model_module_version": "1.2.0",
            "_model_name": "LayoutModel",
            "_view_count": null,
            "_view_module": "@jupyter-widgets/base",
            "_view_module_version": "1.2.0",
            "_view_name": "LayoutView",
            "align_content": null,
            "align_items": null,
            "align_self": null,
            "border": null,
            "bottom": null,
            "display": null,
            "flex": null,
            "flex_flow": null,
            "grid_area": null,
            "grid_auto_columns": null,
            "grid_auto_flow": null,
            "grid_auto_rows": null,
            "grid_column": null,
            "grid_gap": null,
            "grid_row": null,
            "grid_template_areas": null,
            "grid_template_columns": null,
            "grid_template_rows": null,
            "height": null,
            "justify_content": null,
            "justify_items": null,
            "left": null,
            "margin": null,
            "max_height": null,
            "max_width": null,
            "min_height": null,
            "min_width": null,
            "object_fit": null,
            "object_position": null,
            "order": null,
            "overflow": null,
            "overflow_x": null,
            "overflow_y": null,
            "padding": null,
            "right": null,
            "top": null,
            "visibility": null,
            "width": null
          }
        },
        "bd162a69985646a3aa1ca6ce80499c5a": {
          "model_module": "@jupyter-widgets/controls",
          "model_name": "SliderStyleModel",
          "model_module_version": "1.5.0",
          "state": {
            "_model_module": "@jupyter-widgets/controls",
            "_model_module_version": "1.5.0",
            "_model_name": "SliderStyleModel",
            "_view_count": null,
            "_view_module": "@jupyter-widgets/base",
            "_view_module_version": "1.2.0",
            "_view_name": "StyleView",
            "description_width": "",
            "handle_color": null
          }
        },
        "923a2c9f7bc3495f826bfcde2400efcd": {
          "model_module": "@jupyter-widgets/base",
          "model_name": "LayoutModel",
          "model_module_version": "1.2.0",
          "state": {
            "_model_module": "@jupyter-widgets/base",
            "_model_module_version": "1.2.0",
            "_model_name": "LayoutModel",
            "_view_count": null,
            "_view_module": "@jupyter-widgets/base",
            "_view_module_version": "1.2.0",
            "_view_name": "LayoutView",
            "align_content": null,
            "align_items": null,
            "align_self": null,
            "border": null,
            "bottom": null,
            "display": null,
            "flex": null,
            "flex_flow": null,
            "grid_area": null,
            "grid_auto_columns": null,
            "grid_auto_flow": null,
            "grid_auto_rows": null,
            "grid_column": null,
            "grid_gap": null,
            "grid_row": null,
            "grid_template_areas": null,
            "grid_template_columns": null,
            "grid_template_rows": null,
            "height": null,
            "justify_content": null,
            "justify_items": null,
            "left": null,
            "margin": null,
            "max_height": null,
            "max_width": null,
            "min_height": null,
            "min_width": null,
            "object_fit": null,
            "object_position": null,
            "order": null,
            "overflow": null,
            "overflow_x": null,
            "overflow_y": null,
            "padding": null,
            "right": null,
            "top": null,
            "visibility": null,
            "width": null
          }
        },
        "1614e953468d4ef69075e378620b6168": {
          "model_module": "@jupyter-widgets/controls",
          "model_name": "VBoxModel",
          "model_module_version": "1.5.0",
          "state": {
            "_dom_classes": [
              "widget-interact"
            ],
            "_model_module": "@jupyter-widgets/controls",
            "_model_module_version": "1.5.0",
            "_model_name": "VBoxModel",
            "_view_count": null,
            "_view_module": "@jupyter-widgets/controls",
            "_view_module_version": "1.5.0",
            "_view_name": "VBoxView",
            "box_style": "",
            "children": [
              "IPY_MODEL_ee944ce8db2d40eeaff36c0fb1b1b43c",
              "IPY_MODEL_958cc93ee4f1488695de8dc28562ebc3"
            ],
            "layout": "IPY_MODEL_be30dc8787414270a6a89ac632447be3"
          }
        },
        "ee944ce8db2d40eeaff36c0fb1b1b43c": {
          "model_module": "@jupyter-widgets/controls",
          "model_name": "IntSliderModel",
          "model_module_version": "1.5.0",
          "state": {
            "_dom_classes": [],
            "_model_module": "@jupyter-widgets/controls",
            "_model_module_version": "1.5.0",
            "_model_name": "IntSliderModel",
            "_view_count": null,
            "_view_module": "@jupyter-widgets/controls",
            "_view_module_version": "1.5.0",
            "_view_name": "IntSliderView",
            "continuous_update": true,
            "description": "numIter",
            "description_tooltip": null,
            "disabled": false,
            "layout": "IPY_MODEL_592940b7680e49e0b5fbefaee6644438",
            "max": 20,
            "min": 0,
            "orientation": "horizontal",
            "readout": true,
            "readout_format": "d",
            "step": 1,
            "style": "IPY_MODEL_7caa82e08782491ab791dc8f821babe0",
            "value": 0
          }
        },
        "958cc93ee4f1488695de8dc28562ebc3": {
          "model_module": "@jupyter-widgets/output",
          "model_name": "OutputModel",
          "model_module_version": "1.0.0",
          "state": {
            "_dom_classes": [],
            "_model_module": "@jupyter-widgets/output",
            "_model_module_version": "1.0.0",
            "_model_name": "OutputModel",
            "_view_count": null,
            "_view_module": "@jupyter-widgets/output",
            "_view_module_version": "1.0.0",
            "_view_name": "OutputView",
            "layout": "IPY_MODEL_d4fdb8c8399b45908fcd752e91507ca1",
            "msg_id": "",
            "outputs": [
              {
                "output_type": "stream",
                "name": "stdout",
                "text": [
                  "time= 0.11\n"
                ]
              },
              {
                "output_type": "display_data",
                "data": {
                  "text/plain": "<Figure size 300x300 with 2 Axes>",
                  "image/png": "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\n"
                },
                "metadata": {}
              }
            ]
          }
        },
        "be30dc8787414270a6a89ac632447be3": {
          "model_module": "@jupyter-widgets/base",
          "model_name": "LayoutModel",
          "model_module_version": "1.2.0",
          "state": {
            "_model_module": "@jupyter-widgets/base",
            "_model_module_version": "1.2.0",
            "_model_name": "LayoutModel",
            "_view_count": null,
            "_view_module": "@jupyter-widgets/base",
            "_view_module_version": "1.2.0",
            "_view_name": "LayoutView",
            "align_content": null,
            "align_items": null,
            "align_self": null,
            "border": null,
            "bottom": null,
            "display": null,
            "flex": null,
            "flex_flow": null,
            "grid_area": null,
            "grid_auto_columns": null,
            "grid_auto_flow": null,
            "grid_auto_rows": null,
            "grid_column": null,
            "grid_gap": null,
            "grid_row": null,
            "grid_template_areas": null,
            "grid_template_columns": null,
            "grid_template_rows": null,
            "height": null,
            "justify_content": null,
            "justify_items": null,
            "left": null,
            "margin": null,
            "max_height": null,
            "max_width": null,
            "min_height": null,
            "min_width": null,
            "object_fit": null,
            "object_position": null,
            "order": null,
            "overflow": null,
            "overflow_x": null,
            "overflow_y": null,
            "padding": null,
            "right": null,
            "top": null,
            "visibility": null,
            "width": null
          }
        },
        "592940b7680e49e0b5fbefaee6644438": {
          "model_module": "@jupyter-widgets/base",
          "model_name": "LayoutModel",
          "model_module_version": "1.2.0",
          "state": {
            "_model_module": "@jupyter-widgets/base",
            "_model_module_version": "1.2.0",
            "_model_name": "LayoutModel",
            "_view_count": null,
            "_view_module": "@jupyter-widgets/base",
            "_view_module_version": "1.2.0",
            "_view_name": "LayoutView",
            "align_content": null,
            "align_items": null,
            "align_self": null,
            "border": null,
            "bottom": null,
            "display": null,
            "flex": null,
            "flex_flow": null,
            "grid_area": null,
            "grid_auto_columns": null,
            "grid_auto_flow": null,
            "grid_auto_rows": null,
            "grid_column": null,
            "grid_gap": null,
            "grid_row": null,
            "grid_template_areas": null,
            "grid_template_columns": null,
            "grid_template_rows": null,
            "height": null,
            "justify_content": null,
            "justify_items": null,
            "left": null,
            "margin": null,
            "max_height": null,
            "max_width": null,
            "min_height": null,
            "min_width": null,
            "object_fit": null,
            "object_position": null,
            "order": null,
            "overflow": null,
            "overflow_x": null,
            "overflow_y": null,
            "padding": null,
            "right": null,
            "top": null,
            "visibility": null,
            "width": null
          }
        },
        "7caa82e08782491ab791dc8f821babe0": {
          "model_module": "@jupyter-widgets/controls",
          "model_name": "SliderStyleModel",
          "model_module_version": "1.5.0",
          "state": {
            "_model_module": "@jupyter-widgets/controls",
            "_model_module_version": "1.5.0",
            "_model_name": "SliderStyleModel",
            "_view_count": null,
            "_view_module": "@jupyter-widgets/base",
            "_view_module_version": "1.2.0",
            "_view_name": "StyleView",
            "description_width": "",
            "handle_color": null
          }
        },
        "d4fdb8c8399b45908fcd752e91507ca1": {
          "model_module": "@jupyter-widgets/base",
          "model_name": "LayoutModel",
          "model_module_version": "1.2.0",
          "state": {
            "_model_module": "@jupyter-widgets/base",
            "_model_module_version": "1.2.0",
            "_model_name": "LayoutModel",
            "_view_count": null,
            "_view_module": "@jupyter-widgets/base",
            "_view_module_version": "1.2.0",
            "_view_name": "LayoutView",
            "align_content": null,
            "align_items": null,
            "align_self": null,
            "border": null,
            "bottom": null,
            "display": null,
            "flex": null,
            "flex_flow": null,
            "grid_area": null,
            "grid_auto_columns": null,
            "grid_auto_flow": null,
            "grid_auto_rows": null,
            "grid_column": null,
            "grid_gap": null,
            "grid_row": null,
            "grid_template_areas": null,
            "grid_template_columns": null,
            "grid_template_rows": null,
            "height": null,
            "justify_content": null,
            "justify_items": null,
            "left": null,
            "margin": null,
            "max_height": null,
            "max_width": null,
            "min_height": null,
            "min_width": null,
            "object_fit": null,
            "object_position": null,
            "order": null,
            "overflow": null,
            "overflow_x": null,
            "overflow_y": null,
            "padding": null,
            "right": null,
            "top": null,
            "visibility": null,
            "width": null
          }
        }
      }
    }
  },
  "nbformat": 4,
  "nbformat_minor": 0
}